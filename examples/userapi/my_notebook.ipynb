{
 "cells": [
  {
   "cell_type": "markdown",
   "metadata": {},
   "source": [
    "## Launch and connect to an ipyparallel cluster\n",
    "\n",
    "```\n",
    "ipcluster start --profile=mpi -n 4\n",
    "```"
   ]
  },
  {
   "cell_type": "code",
   "execution_count": 50,
   "metadata": {},
   "outputs": [],
   "source": [
    "%%px\n",
    "import ipyparallel as ipp\n",
    "c = ipp.Client(profile='mpi')"
   ]
  },
  {
   "cell_type": "code",
   "execution_count": 51,
   "metadata": {},
   "outputs": [
    {
     "name": "stdout",
     "output_type": "stream",
     "text": [
      "[stdout:0] Hi, I'm rank 0.\n",
      "[stdout:1] Hi, I'm rank 1.\n",
      "[stdout:2] Hi, I'm rank 2.\n",
      "[stdout:3] Hi, I'm rank 3.\n"
     ]
    }
   ],
   "source": [
    "%%px\n",
    "from mpi4py import MPI\n",
    "print(f\"Hi, I'm rank %d.\" % MPI.COMM_WORLD.rank)"
   ]
  },
  {
   "cell_type": "markdown",
   "metadata": {},
   "source": [
    "To enable MPI, users have two options. Either export the environment variable `DEVITO_MPI=1` or, programmatically:"
   ]
  },
  {
   "cell_type": "code",
   "execution_count": 52,
   "metadata": {},
   "outputs": [],
   "source": [
    "%%px\n",
    "from devito import configuration\n",
    "configuration['mpi'] = True"
   ]
  },
  {
   "cell_type": "code",
   "execution_count": 53,
   "metadata": {},
   "outputs": [],
   "source": [
    "%%px\n",
    "from devito import Grid, TimeFunction, Eq, Operator \n",
    "grid = Grid(shape=(4, 4))\n",
    "u = TimeFunction(name=\"u\", grid=grid, space_order=2, time_order=0)"
   ]
  },
  {
   "cell_type": "code",
   "execution_count": 54,
   "metadata": {
    "scrolled": false
   },
   "outputs": [
    {
     "data": {
      "text/plain": [
       "\u001b[0;31mOut[0:31]: \u001b[0m\n",
       "Data([[[0., 0.],\n",
       "       [0., 0.]]], dtype=float32)"
      ]
     },
     "metadata": {
      "after": [],
      "completed": "2019-05-14T14:42:48.486517",
      "data": {},
      "engine_id": 0,
      "engine_uuid": "9fe67ad3-a5c212be85a8d4574a11d195",
      "error": null,
      "execute_input": "u.data\n",
      "execute_result": {
       "data": {
        "text/plain": "Data([[[0., 0.],\n       [0., 0.]]], dtype=float32)"
       },
       "execution_count": 31,
       "metadata": {}
      },
      "follow": [],
      "msg_id": "5c0522c9-237ef313d8fb76601a215a0a",
      "outputs": [],
      "received": "2019-05-14T14:42:48.489851",
      "started": "2019-05-14T14:42:48.455467",
      "status": "ok",
      "stderr": "",
      "stdout": "",
      "submitted": "2019-05-14T14:42:48.450550"
     },
     "output_type": "display_data"
    },
    {
     "data": {
      "text/plain": [
       "\u001b[0;31mOut[1:29]: \u001b[0m\n",
       "Data([[[0., 0.],\n",
       "       [0., 0.]]], dtype=float32)"
      ]
     },
     "metadata": {
      "after": [],
      "completed": "2019-05-14T14:42:48.481873",
      "data": {},
      "engine_id": 1,
      "engine_uuid": "49905370-92abc18572b50d1336e92f3b",
      "error": null,
      "execute_input": "u.data\n",
      "execute_result": {
       "data": {
        "text/plain": "Data([[[0., 0.],\n       [0., 0.]]], dtype=float32)"
       },
       "execution_count": 29,
       "metadata": {}
      },
      "follow": [],
      "msg_id": "69e2d12f-e08fbddde845004504c5e20c",
      "outputs": [],
      "received": "2019-05-14T14:42:48.487748",
      "started": "2019-05-14T14:42:48.456017",
      "status": "ok",
      "stderr": "",
      "stdout": "",
      "submitted": "2019-05-14T14:42:48.451017"
     },
     "output_type": "display_data"
    },
    {
     "data": {
      "text/plain": [
       "\u001b[0;31mOut[2:29]: \u001b[0m\n",
       "Data([[[0., 0.],\n",
       "       [0., 0.]]], dtype=float32)"
      ]
     },
     "metadata": {
      "after": [],
      "completed": "2019-05-14T14:42:48.475970",
      "data": {},
      "engine_id": 2,
      "engine_uuid": "afc812e0-8e830b39f3b854c931b7d023",
      "error": null,
      "execute_input": "u.data\n",
      "execute_result": {
       "data": {
        "text/plain": "Data([[[0., 0.],\n       [0., 0.]]], dtype=float32)"
       },
       "execution_count": 29,
       "metadata": {}
      },
      "follow": [],
      "msg_id": "984a8512-ad906f9afa20fa15041190bd",
      "outputs": [],
      "received": "2019-05-14T14:42:48.480601",
      "started": "2019-05-14T14:42:48.459470",
      "status": "ok",
      "stderr": "",
      "stdout": "",
      "submitted": "2019-05-14T14:42:48.452801"
     },
     "output_type": "display_data"
    },
    {
     "data": {
      "text/plain": [
       "\u001b[0;31mOut[3:29]: \u001b[0m\n",
       "Data([[[0., 0.],\n",
       "       [0., 0.]]], dtype=float32)"
      ]
     },
     "metadata": {
      "after": [],
      "completed": "2019-05-14T14:42:48.479015",
      "data": {},
      "engine_id": 3,
      "engine_uuid": "4b2d635e-f355eff378a1665d25cdf6cc",
      "error": null,
      "execute_input": "u.data\n",
      "execute_result": {
       "data": {
        "text/plain": "Data([[[0., 0.],\n       [0., 0.]]], dtype=float32)"
       },
       "execution_count": 29,
       "metadata": {}
      },
      "follow": [],
      "msg_id": "f554701e-f66089e5d52b999910b3f0e7",
      "outputs": [],
      "received": "2019-05-14T14:42:48.481882",
      "started": "2019-05-14T14:42:48.457779",
      "status": "ok",
      "stderr": "",
      "stdout": "",
      "submitted": "2019-05-14T14:42:48.453187"
     },
     "output_type": "display_data"
    }
   ],
   "source": [
    "%%px\n",
    "u.data"
   ]
  },
  {
   "cell_type": "code",
   "execution_count": 55,
   "metadata": {},
   "outputs": [],
   "source": [
    "%%px\n",
    "import numpy as np"
   ]
  },
  {
   "cell_type": "code",
   "execution_count": 56,
   "metadata": {},
   "outputs": [],
   "source": [
    "a = np.arange(16).reshape(grid.shape)\n",
    "b = a[::-1, ::-1]"
   ]
  },
  {
   "cell_type": "code",
   "execution_count": 58,
   "metadata": {},
   "outputs": [
    {
     "data": {
      "text/plain": [
       "array([[ 0,  1,  2,  3],\n",
       "       [ 4,  5,  6,  7],\n",
       "       [ 8,  9, 10, 11],\n",
       "       [12, 13, 14, 15]])"
      ]
     },
     "execution_count": 58,
     "metadata": {},
     "output_type": "execute_result"
    }
   ],
   "source": [
    "a"
   ]
  },
  {
   "cell_type": "code",
   "execution_count": 59,
   "metadata": {},
   "outputs": [
    {
     "data": {
      "text/plain": [
       "array([[15, 14, 13, 12],\n",
       "       [11, 10,  9,  8],\n",
       "       [ 7,  6,  5,  4],\n",
       "       [ 3,  2,  1,  0]])"
      ]
     },
     "execution_count": 59,
     "metadata": {},
     "output_type": "execute_result"
    }
   ],
   "source": [
    "b"
   ]
  },
  {
   "cell_type": "code",
   "execution_count": 60,
   "metadata": {},
   "outputs": [],
   "source": [
    "%%px\n",
    "u.data[:] = a"
   ]
  },
  {
   "cell_type": "code",
   "execution_count": 61,
   "metadata": {},
   "outputs": [
    {
     "data": {
      "text/plain": [
       "\u001b[0;31mOut[0:36]: \u001b[0m\n",
       "Data([[[0., 1.],\n",
       "       [4., 5.]]], dtype=float32)"
      ]
     },
     "metadata": {
      "after": [],
      "completed": "2019-05-14T14:43:35.442867",
      "data": {},
      "engine_id": 0,
      "engine_uuid": "9fe67ad3-a5c212be85a8d4574a11d195",
      "error": null,
      "execute_input": "u.data\n",
      "execute_result": {
       "data": {
        "text/plain": "Data([[[0., 1.],\n       [4., 5.]]], dtype=float32)"
       },
       "execution_count": 36,
       "metadata": {}
      },
      "follow": [],
      "msg_id": "6469c290-250ac17df2a7e0a862694ed1",
      "outputs": [],
      "received": "2019-05-14T14:43:35.450007",
      "started": "2019-05-14T14:43:35.427010",
      "status": "ok",
      "stderr": "",
      "stdout": "",
      "submitted": "2019-05-14T14:43:35.421853"
     },
     "output_type": "display_data"
    },
    {
     "data": {
      "text/plain": [
       "\u001b[0;31mOut[1:34]: \u001b[0m\n",
       "Data([[[2., 3.],\n",
       "       [6., 7.]]], dtype=float32)"
      ]
     },
     "metadata": {
      "after": [],
      "completed": "2019-05-14T14:43:35.452221",
      "data": {},
      "engine_id": 1,
      "engine_uuid": "49905370-92abc18572b50d1336e92f3b",
      "error": null,
      "execute_input": "u.data\n",
      "execute_result": {
       "data": {
        "text/plain": "Data([[[2., 3.],\n       [6., 7.]]], dtype=float32)"
       },
       "execution_count": 34,
       "metadata": {}
      },
      "follow": [],
      "msg_id": "2d599687-2a9e18a3936a17e148c37d00",
      "outputs": [],
      "received": "2019-05-14T14:43:35.455449",
      "started": "2019-05-14T14:43:35.436572",
      "status": "ok",
      "stderr": "",
      "stdout": "",
      "submitted": "2019-05-14T14:43:35.423237"
     },
     "output_type": "display_data"
    },
    {
     "data": {
      "text/plain": [
       "\u001b[0;31mOut[2:34]: \u001b[0m\n",
       "Data([[[ 8.,  9.],\n",
       "       [12., 13.]]], dtype=float32)"
      ]
     },
     "metadata": {
      "after": [],
      "completed": "2019-05-14T14:43:35.438799",
      "data": {},
      "engine_id": 2,
      "engine_uuid": "afc812e0-8e830b39f3b854c931b7d023",
      "error": null,
      "execute_input": "u.data\n",
      "execute_result": {
       "data": {
        "text/plain": "Data([[[ 8.,  9.],\n       [12., 13.]]], dtype=float32)"
       },
       "execution_count": 34,
       "metadata": {}
      },
      "follow": [],
      "msg_id": "70dfbb78-7798998af7b5974d28d5e6f6",
      "outputs": [],
      "received": "2019-05-14T14:43:35.447252",
      "started": "2019-05-14T14:43:35.428720",
      "status": "ok",
      "stderr": "",
      "stdout": "",
      "submitted": "2019-05-14T14:43:35.424505"
     },
     "output_type": "display_data"
    },
    {
     "data": {
      "text/plain": [
       "\u001b[0;31mOut[3:34]: \u001b[0m\n",
       "Data([[[10., 11.],\n",
       "       [14., 15.]]], dtype=float32)"
      ]
     },
     "metadata": {
      "after": [],
      "completed": "2019-05-14T14:43:35.443808",
      "data": {},
      "engine_id": 3,
      "engine_uuid": "4b2d635e-f355eff378a1665d25cdf6cc",
      "error": null,
      "execute_input": "u.data\n",
      "execute_result": {
       "data": {
        "text/plain": "Data([[[10., 11.],\n       [14., 15.]]], dtype=float32)"
       },
       "execution_count": 34,
       "metadata": {}
      },
      "follow": [],
      "msg_id": "bfd21e1c-8df87ccab6ae24e887872fff",
      "outputs": [],
      "received": "2019-05-14T14:43:35.448927",
      "started": "2019-05-14T14:43:35.429823",
      "status": "ok",
      "stderr": "",
      "stdout": "",
      "submitted": "2019-05-14T14:43:35.425244"
     },
     "output_type": "display_data"
    }
   ],
   "source": [
    "%%px\n",
    "u.data"
   ]
  },
  {
   "cell_type": "code",
   "execution_count": 63,
   "metadata": {},
   "outputs": [
    {
     "data": {
      "text/plain": [
       "\u001b[0;31mOut[0:38]: \u001b[0mData([], shape=(0, 1, 2), dtype=float32)"
      ]
     },
     "metadata": {
      "after": [],
      "completed": "2019-05-14T14:45:34.557259",
      "data": {},
      "engine_id": 0,
      "engine_uuid": "9fe67ad3-a5c212be85a8d4574a11d195",
      "error": null,
      "execute_input": "u.data[3:1:-1,3:1:-1]\n",
      "execute_result": {
       "data": {
        "text/plain": "Data([], shape=(0, 1, 2), dtype=float32)"
       },
       "execution_count": 38,
       "metadata": {}
      },
      "follow": [],
      "msg_id": "d276ec7a-a7246b68593ee8a96c0c43de",
      "outputs": [],
      "received": "2019-05-14T14:45:34.561383",
      "started": "2019-05-14T14:45:34.543559",
      "status": "ok",
      "stderr": "",
      "stdout": "",
      "submitted": "2019-05-14T14:45:34.537295"
     },
     "output_type": "display_data"
    },
    {
     "data": {
      "text/plain": [
       "\u001b[0;31mOut[1:36]: \u001b[0mData([], shape=(0, 1, 2), dtype=float32)"
      ]
     },
     "metadata": {
      "after": [],
      "completed": "2019-05-14T14:45:34.551347",
      "data": {},
      "engine_id": 1,
      "engine_uuid": "49905370-92abc18572b50d1336e92f3b",
      "error": null,
      "execute_input": "u.data[3:1:-1,3:1:-1]\n",
      "execute_result": {
       "data": {
        "text/plain": "Data([], shape=(0, 1, 2), dtype=float32)"
       },
       "execution_count": 36,
       "metadata": {}
      },
      "follow": [],
      "msg_id": "2a652568-7fa73fff78d107032251685d",
      "outputs": [],
      "received": "2019-05-14T14:45:34.560375",
      "started": "2019-05-14T14:45:34.541229",
      "status": "ok",
      "stderr": "",
      "stdout": "",
      "submitted": "2019-05-14T14:45:34.537750"
     },
     "output_type": "display_data"
    },
    {
     "data": {
      "text/plain": [
       "\u001b[0;31mOut[2:36]: \u001b[0mData([], shape=(0, 1, 2), dtype=float32)"
      ]
     },
     "metadata": {
      "after": [],
      "completed": "2019-05-14T14:45:34.557073",
      "data": {},
      "engine_id": 2,
      "engine_uuid": "afc812e0-8e830b39f3b854c931b7d023",
      "error": null,
      "execute_input": "u.data[3:1:-1,3:1:-1]\n",
      "execute_result": {
       "data": {
        "text/plain": "Data([], shape=(0, 1, 2), dtype=float32)"
       },
       "execution_count": 36,
       "metadata": {}
      },
      "follow": [],
      "msg_id": "b8d80413-155c08976d39bf8f3366127f",
      "outputs": [],
      "received": "2019-05-14T14:45:34.564560",
      "started": "2019-05-14T14:45:34.545126",
      "status": "ok",
      "stderr": "",
      "stdout": "",
      "submitted": "2019-05-14T14:45:34.538802"
     },
     "output_type": "display_data"
    },
    {
     "data": {
      "text/plain": [
       "\u001b[0;31mOut[3:36]: \u001b[0mData([], shape=(0, 1, 2), dtype=float32)"
      ]
     },
     "metadata": {
      "after": [],
      "completed": "2019-05-14T14:45:34.560519",
      "data": {},
      "engine_id": 3,
      "engine_uuid": "4b2d635e-f355eff378a1665d25cdf6cc",
      "error": null,
      "execute_input": "u.data[3:1:-1,3:1:-1]\n",
      "execute_result": {
       "data": {
        "text/plain": "Data([], shape=(0, 1, 2), dtype=float32)"
       },
       "execution_count": 36,
       "metadata": {}
      },
      "follow": [],
      "msg_id": "585fa519-f20d6f5d57eb80d5b6b3e375",
      "outputs": [],
      "received": "2019-05-14T14:45:34.567010",
      "started": "2019-05-14T14:45:34.544484",
      "status": "ok",
      "stderr": "",
      "stdout": "",
      "submitted": "2019-05-14T14:45:34.539107"
     },
     "output_type": "display_data"
    }
   ],
   "source": [
    "%%px\n",
    "u.data[3:1:-1,3:1:-1]"
   ]
  },
  {
   "cell_type": "code",
   "execution_count": null,
   "metadata": {},
   "outputs": [],
   "source": []
  }
 ],
 "metadata": {
  "kernelspec": {
   "display_name": "Python (devito)",
   "language": "python",
   "name": "devito"
  },
  "language_info": {
   "codemirror_mode": {
    "name": "ipython",
    "version": 3
   },
   "file_extension": ".py",
   "mimetype": "text/x-python",
   "name": "python",
   "nbconvert_exporter": "python",
   "pygments_lexer": "ipython3",
   "version": "3.6.8"
  }
 },
 "nbformat": 4,
 "nbformat_minor": 2
}
