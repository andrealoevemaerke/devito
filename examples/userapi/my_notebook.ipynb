{
 "cells": [
  {
   "cell_type": "markdown",
   "metadata": {},
   "source": [
    "## Launch and connect to an ipyparallel cluster\n",
    "\n",
    "```\n",
    "ipcluster start --profile=mpi -n 4\n",
    "```"
   ]
  },
  {
   "cell_type": "code",
   "execution_count": 1,
   "metadata": {},
   "outputs": [],
   "source": [
    "import ipyparallel as ipp\n",
    "c = ipp.Client(profile='mpi')"
   ]
  },
  {
   "cell_type": "code",
   "execution_count": 2,
   "metadata": {},
   "outputs": [
    {
     "name": "stdout",
     "output_type": "stream",
     "text": [
      "[stdout:0] Hi, I'm rank 0.\n",
      "[stdout:1] Hi, I'm rank 1.\n",
      "[stdout:2] Hi, I'm rank 2.\n",
      "[stdout:3] Hi, I'm rank 3.\n"
     ]
    }
   ],
   "source": [
    "%%px\n",
    "from mpi4py import MPI\n",
    "print(f\"Hi, I'm rank %d.\" % MPI.COMM_WORLD.rank)"
   ]
  },
  {
   "cell_type": "markdown",
   "metadata": {},
   "source": [
    "To enable MPI, users have two options. Either export the environment variable `DEVITO_MPI=1` or, programmatically:"
   ]
  },
  {
   "cell_type": "code",
   "execution_count": 3,
   "metadata": {},
   "outputs": [],
   "source": [
    "%%px\n",
    "from devito import configuration\n",
    "configuration['mpi'] = True"
   ]
  },
  {
   "cell_type": "code",
   "execution_count": 4,
   "metadata": {},
   "outputs": [],
   "source": [
    "%%px\n",
    "from devito import Grid, TimeFunction, Eq, Operator \n",
    "grid = Grid(shape=(4, 4))\n",
    "u = TimeFunction(name=\"u\", grid=grid, space_order=2, time_order=0)"
   ]
  },
  {
   "cell_type": "code",
   "execution_count": 5,
   "metadata": {
    "scrolled": false
   },
   "outputs": [
    {
     "data": {
      "text/plain": [
       "\u001b[0;31mOut[0:79]: \u001b[0m\n",
       "Data([[[0., 0.],\n",
       "       [0., 0.]]], dtype=float32)"
      ]
     },
     "metadata": {
      "after": [],
      "completed": "2019-05-15T10:25:53.584306",
      "data": {},
      "engine_id": 0,
      "engine_uuid": "9fe67ad3-a5c212be85a8d4574a11d195",
      "error": null,
      "execute_input": "u.data\n",
      "execute_result": {
       "data": {
        "text/plain": "Data([[[0., 0.],\n       [0., 0.]]], dtype=float32)"
       },
       "execution_count": 79,
       "metadata": {}
      },
      "follow": [],
      "msg_id": "f5d435b8-28934c96da46ac95c3638e70",
      "outputs": [],
      "received": "2019-05-15T10:25:53.586047",
      "started": "2019-05-15T10:25:53.557623",
      "status": "ok",
      "stderr": "",
      "stdout": "",
      "submitted": "2019-05-15T10:25:53.549171"
     },
     "output_type": "display_data"
    },
    {
     "data": {
      "text/plain": [
       "\u001b[0;31mOut[1:77]: \u001b[0m\n",
       "Data([[[0., 0.],\n",
       "       [0., 0.]]], dtype=float32)"
      ]
     },
     "metadata": {
      "after": [],
      "completed": "2019-05-15T10:25:53.580219",
      "data": {},
      "engine_id": 1,
      "engine_uuid": "49905370-92abc18572b50d1336e92f3b",
      "error": null,
      "execute_input": "u.data\n",
      "execute_result": {
       "data": {
        "text/plain": "Data([[[0., 0.],\n       [0., 0.]]], dtype=float32)"
       },
       "execution_count": 77,
       "metadata": {}
      },
      "follow": [],
      "msg_id": "bb560e22-fc86e752ae423c4f95b18138",
      "outputs": [],
      "received": "2019-05-15T10:25:53.584909",
      "started": "2019-05-15T10:25:53.557838",
      "status": "ok",
      "stderr": "",
      "stdout": "",
      "submitted": "2019-05-15T10:25:53.550687"
     },
     "output_type": "display_data"
    },
    {
     "data": {
      "text/plain": [
       "\u001b[0;31mOut[2:77]: \u001b[0m\n",
       "Data([[[0., 0.],\n",
       "       [0., 0.]]], dtype=float32)"
      ]
     },
     "metadata": {
      "after": [],
      "completed": "2019-05-15T10:25:53.579758",
      "data": {},
      "engine_id": 2,
      "engine_uuid": "afc812e0-8e830b39f3b854c931b7d023",
      "error": null,
      "execute_input": "u.data\n",
      "execute_result": {
       "data": {
        "text/plain": "Data([[[0., 0.],\n       [0., 0.]]], dtype=float32)"
       },
       "execution_count": 77,
       "metadata": {}
      },
      "follow": [],
      "msg_id": "ede387d8-5cc16c4cfbf985cca115e4a0",
      "outputs": [],
      "received": "2019-05-15T10:25:53.583511",
      "started": "2019-05-15T10:25:53.557650",
      "status": "ok",
      "stderr": "",
      "stdout": "",
      "submitted": "2019-05-15T10:25:53.551598"
     },
     "output_type": "display_data"
    },
    {
     "data": {
      "text/plain": [
       "\u001b[0;31mOut[3:77]: \u001b[0m\n",
       "Data([[[0., 0.],\n",
       "       [0., 0.]]], dtype=float32)"
      ]
     },
     "metadata": {
      "after": [],
      "completed": "2019-05-15T10:25:53.582344",
      "data": {},
      "engine_id": 3,
      "engine_uuid": "4b2d635e-f355eff378a1665d25cdf6cc",
      "error": null,
      "execute_input": "u.data\n",
      "execute_result": {
       "data": {
        "text/plain": "Data([[[0., 0.],\n       [0., 0.]]], dtype=float32)"
       },
       "execution_count": 77,
       "metadata": {}
      },
      "follow": [],
      "msg_id": "0c8304c1-706d6b13e1f3098d88e3d766",
      "outputs": [],
      "received": "2019-05-15T10:25:53.585485",
      "started": "2019-05-15T10:25:53.557534",
      "status": "ok",
      "stderr": "",
      "stdout": "",
      "submitted": "2019-05-15T10:25:53.552080"
     },
     "output_type": "display_data"
    }
   ],
   "source": [
    "%%px\n",
    "u.data"
   ]
  },
  {
   "cell_type": "code",
   "execution_count": 6,
   "metadata": {},
   "outputs": [],
   "source": [
    "import numpy as np"
   ]
  },
  {
   "cell_type": "code",
   "execution_count": 7,
   "metadata": {},
   "outputs": [],
   "source": [
    "shape = (4, 4)\n",
    "a = np.arange(16).reshape(shape)\n",
    "b = a[::-1, ::-1]"
   ]
  },
  {
   "cell_type": "code",
   "execution_count": 8,
   "metadata": {},
   "outputs": [
    {
     "data": {
      "text/plain": [
       "array([[ 0,  1,  2,  3],\n",
       "       [ 4,  5,  6,  7],\n",
       "       [ 8,  9, 10, 11],\n",
       "       [12, 13, 14, 15]])"
      ]
     },
     "execution_count": 8,
     "metadata": {},
     "output_type": "execute_result"
    }
   ],
   "source": [
    "a"
   ]
  },
  {
   "cell_type": "code",
   "execution_count": 9,
   "metadata": {},
   "outputs": [
    {
     "data": {
      "text/plain": [
       "array([[15, 14, 13, 12],\n",
       "       [11, 10,  9,  8],\n",
       "       [ 7,  6,  5,  4],\n",
       "       [ 3,  2,  1,  0]])"
      ]
     },
     "execution_count": 9,
     "metadata": {},
     "output_type": "execute_result"
    }
   ],
   "source": [
    "b"
   ]
  },
  {
   "cell_type": "code",
   "execution_count": 10,
   "metadata": {},
   "outputs": [],
   "source": [
    "%%px\n",
    "u.data[:] = a"
   ]
  },
  {
   "cell_type": "code",
   "execution_count": 11,
   "metadata": {},
   "outputs": [
    {
     "data": {
      "text/plain": [
       "\u001b[0;31mOut[0:81]: \u001b[0m\n",
       "Data([[[0., 1.],\n",
       "       [4., 5.]]], dtype=float32)"
      ]
     },
     "metadata": {
      "after": [],
      "completed": "2019-05-15T10:26:00.853067",
      "data": {},
      "engine_id": 0,
      "engine_uuid": "9fe67ad3-a5c212be85a8d4574a11d195",
      "error": null,
      "execute_input": "u.data\n",
      "execute_result": {
       "data": {
        "text/plain": "Data([[[0., 1.],\n       [4., 5.]]], dtype=float32)"
       },
       "execution_count": 81,
       "metadata": {}
      },
      "follow": [],
      "msg_id": "b8fd95a6-8db78987b143e3655e8ee819",
      "outputs": [],
      "received": "2019-05-15T10:26:00.860575",
      "started": "2019-05-15T10:26:00.837664",
      "status": "ok",
      "stderr": "",
      "stdout": "",
      "submitted": "2019-05-15T10:26:00.833005"
     },
     "output_type": "display_data"
    },
    {
     "data": {
      "text/plain": [
       "\u001b[0;31mOut[1:79]: \u001b[0m\n",
       "Data([[[2., 3.],\n",
       "       [6., 7.]]], dtype=float32)"
      ]
     },
     "metadata": {
      "after": [],
      "completed": "2019-05-15T10:26:00.853822",
      "data": {},
      "engine_id": 1,
      "engine_uuid": "49905370-92abc18572b50d1336e92f3b",
      "error": null,
      "execute_input": "u.data\n",
      "execute_result": {
       "data": {
        "text/plain": "Data([[[2., 3.],\n       [6., 7.]]], dtype=float32)"
       },
       "execution_count": 79,
       "metadata": {}
      },
      "follow": [],
      "msg_id": "14aa8fe5-ab35e8cd9ca092e212523740",
      "outputs": [],
      "received": "2019-05-15T10:26:00.859731",
      "started": "2019-05-15T10:26:00.839277",
      "status": "ok",
      "stderr": "",
      "stdout": "",
      "submitted": "2019-05-15T10:26:00.833700"
     },
     "output_type": "display_data"
    },
    {
     "data": {
      "text/plain": [
       "\u001b[0;31mOut[2:79]: \u001b[0m\n",
       "Data([[[ 8.,  9.],\n",
       "       [12., 13.]]], dtype=float32)"
      ]
     },
     "metadata": {
      "after": [],
      "completed": "2019-05-15T10:26:00.847678",
      "data": {},
      "engine_id": 2,
      "engine_uuid": "afc812e0-8e830b39f3b854c931b7d023",
      "error": null,
      "execute_input": "u.data\n",
      "execute_result": {
       "data": {
        "text/plain": "Data([[[ 8.,  9.],\n       [12., 13.]]], dtype=float32)"
       },
       "execution_count": 79,
       "metadata": {}
      },
      "follow": [],
      "msg_id": "f4dfeb0f-3ba7062f13a54c91ce72fc59",
      "outputs": [],
      "received": "2019-05-15T10:26:00.855925",
      "started": "2019-05-15T10:26:00.839671",
      "status": "ok",
      "stderr": "",
      "stdout": "",
      "submitted": "2019-05-15T10:26:00.834739"
     },
     "output_type": "display_data"
    },
    {
     "data": {
      "text/plain": [
       "\u001b[0;31mOut[3:79]: \u001b[0m\n",
       "Data([[[10., 11.],\n",
       "       [14., 15.]]], dtype=float32)"
      ]
     },
     "metadata": {
      "after": [],
      "completed": "2019-05-15T10:26:00.855038",
      "data": {},
      "engine_id": 3,
      "engine_uuid": "4b2d635e-f355eff378a1665d25cdf6cc",
      "error": null,
      "execute_input": "u.data\n",
      "execute_result": {
       "data": {
        "text/plain": "Data([[[10., 11.],\n       [14., 15.]]], dtype=float32)"
       },
       "execution_count": 79,
       "metadata": {}
      },
      "follow": [],
      "msg_id": "6122ea06-dd358b406f01751ff7b3e359",
      "outputs": [],
      "received": "2019-05-15T10:26:00.858811",
      "started": "2019-05-15T10:26:00.839189",
      "status": "ok",
      "stderr": "",
      "stdout": "",
      "submitted": "2019-05-15T10:26:00.835502"
     },
     "output_type": "display_data"
    }
   ],
   "source": [
    "%%px\n",
    "u.data"
   ]
  },
  {
   "cell_type": "code",
   "execution_count": 12,
   "metadata": {},
   "outputs": [
    {
     "data": {
      "text/plain": [
       "\u001b[0;31mOut[0:82]: \u001b[0mData([], shape=(0, 2), dtype=float32)"
      ]
     },
     "metadata": {
      "after": [],
      "completed": "2019-05-15T10:26:04.539269",
      "data": {},
      "engine_id": 0,
      "engine_uuid": "9fe67ad3-a5c212be85a8d4574a11d195",
      "error": null,
      "execute_input": "u.data[2,2]\n",
      "execute_result": {
       "data": {
        "text/plain": "Data([], shape=(0, 2), dtype=float32)"
       },
       "execution_count": 82,
       "metadata": {}
      },
      "follow": [],
      "msg_id": "dd55f7d7-2225c353185853d3f9bc7ba2",
      "outputs": [],
      "received": "2019-05-15T10:26:04.542538",
      "started": "2019-05-15T10:26:04.524753",
      "status": "ok",
      "stderr": "",
      "stdout": "",
      "submitted": "2019-05-15T10:26:04.519531"
     },
     "output_type": "display_data"
    },
    {
     "data": {
      "text/plain": [
       "\u001b[0;31mOut[1:80]: \u001b[0mData([], shape=(0, 2), dtype=float32)"
      ]
     },
     "metadata": {
      "after": [],
      "completed": "2019-05-15T10:26:04.539701",
      "data": {},
      "engine_id": 1,
      "engine_uuid": "49905370-92abc18572b50d1336e92f3b",
      "error": null,
      "execute_input": "u.data[2,2]\n",
      "execute_result": {
       "data": {
        "text/plain": "Data([], shape=(0, 2), dtype=float32)"
       },
       "execution_count": 80,
       "metadata": {}
      },
      "follow": [],
      "msg_id": "4c9f8c96-ff0b4ca4a941ae59f0c196aa",
      "outputs": [],
      "received": "2019-05-15T10:26:04.543404",
      "started": "2019-05-15T10:26:04.526406",
      "status": "ok",
      "stderr": "",
      "stdout": "",
      "submitted": "2019-05-15T10:26:04.520609"
     },
     "output_type": "display_data"
    },
    {
     "data": {
      "text/plain": [
       "\u001b[0;31mOut[2:80]: \u001b[0mData([8., 9.], dtype=float32)"
      ]
     },
     "metadata": {
      "after": [],
      "completed": "2019-05-15T10:26:04.545097",
      "data": {},
      "engine_id": 2,
      "engine_uuid": "afc812e0-8e830b39f3b854c931b7d023",
      "error": null,
      "execute_input": "u.data[2,2]\n",
      "execute_result": {
       "data": {
        "text/plain": "Data([8., 9.], dtype=float32)"
       },
       "execution_count": 80,
       "metadata": {}
      },
      "follow": [],
      "msg_id": "01295d26-6113420cb44fefeb6c8ddf66",
      "outputs": [],
      "received": "2019-05-15T10:26:04.546676",
      "started": "2019-05-15T10:26:04.536048",
      "status": "ok",
      "stderr": "",
      "stdout": "",
      "submitted": "2019-05-15T10:26:04.521284"
     },
     "output_type": "display_data"
    },
    {
     "data": {
      "text/plain": [
       "\u001b[0;31mOut[3:80]: \u001b[0mData([10., 11.], dtype=float32)"
      ]
     },
     "metadata": {
      "after": [],
      "completed": "2019-05-15T10:26:04.534024",
      "data": {},
      "engine_id": 3,
      "engine_uuid": "4b2d635e-f355eff378a1665d25cdf6cc",
      "error": null,
      "execute_input": "u.data[2,2]\n",
      "execute_result": {
       "data": {
        "text/plain": "Data([10., 11.], dtype=float32)"
       },
       "execution_count": 80,
       "metadata": {}
      },
      "follow": [],
      "msg_id": "5eb05767-a30d56053a82a6201c43d0d6",
      "outputs": [],
      "received": "2019-05-15T10:26:04.548648",
      "started": "2019-05-15T10:26:04.526281",
      "status": "ok",
      "stderr": "",
      "stdout": "",
      "submitted": "2019-05-15T10:26:04.521984"
     },
     "output_type": "display_data"
    }
   ],
   "source": [
    "%%px\n",
    "u.data[2,2]"
   ]
  },
  {
   "cell_type": "code",
   "execution_count": 14,
   "metadata": {},
   "outputs": [
    {
     "data": {
      "text/plain": [
       "\u001b[0;31mOut[0:83]: \u001b[0mData([], shape=(0, 1, 2), dtype=float32)"
      ]
     },
     "metadata": {
      "after": [],
      "completed": "2019-05-15T10:26:18.573813",
      "data": {},
      "engine_id": 0,
      "engine_uuid": "9fe67ad3-a5c212be85a8d4574a11d195",
      "error": null,
      "execute_input": "u.data[3:1:-1, 3:1:-1]\n",
      "execute_result": {
       "data": {
        "text/plain": "Data([], shape=(0, 1, 2), dtype=float32)"
       },
       "execution_count": 83,
       "metadata": {}
      },
      "follow": [],
      "msg_id": "89401b95-6a91f25a087d20519c6d7da7",
      "outputs": [],
      "received": "2019-05-15T10:26:18.579701",
      "started": "2019-05-15T10:26:18.560922",
      "status": "ok",
      "stderr": "",
      "stdout": "",
      "submitted": "2019-05-15T10:26:18.556773"
     },
     "output_type": "display_data"
    },
    {
     "data": {
      "text/plain": [
       "\u001b[0;31mOut[1:81]: \u001b[0mData([], shape=(0, 1, 2), dtype=float32)"
      ]
     },
     "metadata": {
      "after": [],
      "completed": "2019-05-15T10:26:18.577681",
      "data": {},
      "engine_id": 1,
      "engine_uuid": "49905370-92abc18572b50d1336e92f3b",
      "error": null,
      "execute_input": "u.data[3:1:-1, 3:1:-1]\n",
      "execute_result": {
       "data": {
        "text/plain": "Data([], shape=(0, 1, 2), dtype=float32)"
       },
       "execution_count": 81,
       "metadata": {}
      },
      "follow": [],
      "msg_id": "c2c8ceb7-4e3865fdf005947ae9e2b74e",
      "outputs": [],
      "received": "2019-05-15T10:26:18.581111",
      "started": "2019-05-15T10:26:18.562926",
      "status": "ok",
      "stderr": "",
      "stdout": "",
      "submitted": "2019-05-15T10:26:18.557593"
     },
     "output_type": "display_data"
    },
    {
     "data": {
      "text/plain": [
       "\u001b[0;31mOut[2:81]: \u001b[0mData([], shape=(0, 1, 2), dtype=float32)"
      ]
     },
     "metadata": {
      "after": [],
      "completed": "2019-05-15T10:26:18.586468",
      "data": {},
      "engine_id": 2,
      "engine_uuid": "afc812e0-8e830b39f3b854c931b7d023",
      "error": null,
      "execute_input": "u.data[3:1:-1, 3:1:-1]\n",
      "execute_result": {
       "data": {
        "text/plain": "Data([], shape=(0, 1, 2), dtype=float32)"
       },
       "execution_count": 81,
       "metadata": {}
      },
      "follow": [],
      "msg_id": "e9105403-5879fc5261e793886ee0c621",
      "outputs": [],
      "received": "2019-05-15T10:26:18.588784",
      "started": "2019-05-15T10:26:18.567308",
      "status": "ok",
      "stderr": "",
      "stdout": "",
      "submitted": "2019-05-15T10:26:18.557996"
     },
     "output_type": "display_data"
    },
    {
     "data": {
      "text/plain": [
       "\u001b[0;31mOut[3:81]: \u001b[0mData([], shape=(0, 1, 2), dtype=float32)"
      ]
     },
     "metadata": {
      "after": [],
      "completed": "2019-05-15T10:26:18.575035",
      "data": {},
      "engine_id": 3,
      "engine_uuid": "4b2d635e-f355eff378a1665d25cdf6cc",
      "error": null,
      "execute_input": "u.data[3:1:-1, 3:1:-1]\n",
      "execute_result": {
       "data": {
        "text/plain": "Data([], shape=(0, 1, 2), dtype=float32)"
       },
       "execution_count": 81,
       "metadata": {}
      },
      "follow": [],
      "msg_id": "a91959d3-c921d54ab82bd6fb9663cc16",
      "outputs": [],
      "received": "2019-05-15T10:26:18.582879",
      "started": "2019-05-15T10:26:18.563620",
      "status": "ok",
      "stderr": "",
      "stdout": "",
      "submitted": "2019-05-15T10:26:18.558301"
     },
     "output_type": "display_data"
    }
   ],
   "source": [
    "%%px\n",
    "u.data[3:1:-1, 3:1:-1]"
   ]
  },
  {
   "cell_type": "code",
   "execution_count": null,
   "metadata": {},
   "outputs": [],
   "source": []
  }
 ],
 "metadata": {
  "kernelspec": {
   "display_name": "Python (devito)",
   "language": "python",
   "name": "devito"
  },
  "language_info": {
   "codemirror_mode": {
    "name": "ipython",
    "version": 3
   },
   "file_extension": ".py",
   "mimetype": "text/x-python",
   "name": "python",
   "nbconvert_exporter": "python",
   "pygments_lexer": "ipython3",
   "version": "3.6.8"
  }
 },
 "nbformat": 4,
 "nbformat_minor": 2
}
