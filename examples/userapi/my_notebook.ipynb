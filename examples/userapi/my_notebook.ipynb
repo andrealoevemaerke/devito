{
 "cells": [
  {
   "cell_type": "markdown",
   "metadata": {},
   "source": [
    "## Launch and connect to an ipyparallel cluster\n",
    "\n",
    "```\n",
    "ipcluster start --profile=mpi -n 4\n",
    "```"
   ]
  },
  {
   "cell_type": "code",
   "execution_count": 1,
   "metadata": {},
   "outputs": [],
   "source": [
    "import ipyparallel as ipp\n",
    "c = ipp.Client(profile='mpi')"
   ]
  },
  {
   "cell_type": "code",
   "execution_count": 2,
   "metadata": {},
   "outputs": [
    {
     "name": "stdout",
     "output_type": "stream",
     "text": [
      "[stdout:0] Hi, I'm rank 0.\n",
      "[stdout:1] Hi, I'm rank 1.\n",
      "[stdout:2] Hi, I'm rank 2.\n",
      "[stdout:3] Hi, I'm rank 3.\n"
     ]
    }
   ],
   "source": [
    "%%px\n",
    "from mpi4py import MPI\n",
    "print(f\"Hi, I'm rank %d.\" % MPI.COMM_WORLD.rank)"
   ]
  },
  {
   "cell_type": "markdown",
   "metadata": {},
   "source": [
    "To enable MPI, users have two options. Either export the environment variable `DEVITO_MPI=1` or, programmatically:"
   ]
  },
  {
   "cell_type": "code",
   "execution_count": 3,
   "metadata": {},
   "outputs": [],
   "source": [
    "%%px\n",
    "from devito import configuration\n",
    "configuration['mpi'] = True"
   ]
  },
  {
   "cell_type": "code",
   "execution_count": 4,
   "metadata": {},
   "outputs": [],
   "source": [
    "%%px\n",
    "from devito import Grid, TimeFunction, Eq, Operator \n",
    "grid = Grid(shape=(4, 4))\n",
    "u = TimeFunction(name=\"u\", grid=grid, space_order=2, time_order=0)"
   ]
  },
  {
   "cell_type": "code",
   "execution_count": 5,
   "metadata": {
    "scrolled": false
   },
   "outputs": [
    {
     "data": {
      "text/plain": [
       "\u001b[0;31mOut[0:66]: \u001b[0m\n",
       "Data([[[0., 0.],\n",
       "       [0., 0.]]], dtype=float32)"
      ]
     },
     "metadata": {
      "after": [],
      "completed": "2019-05-14T15:15:25.119353",
      "data": {},
      "engine_id": 0,
      "engine_uuid": "9fe67ad3-a5c212be85a8d4574a11d195",
      "error": null,
      "execute_input": "u.data\n",
      "execute_result": {
       "data": {
        "text/plain": "Data([[[0., 0.],\n       [0., 0.]]], dtype=float32)"
       },
       "execution_count": 66,
       "metadata": {}
      },
      "follow": [],
      "msg_id": "bbaadc40-2b0330a2f54b927bcc10c263",
      "outputs": [],
      "received": "2019-05-14T15:15:25.122518",
      "started": "2019-05-14T15:15:25.099674",
      "status": "ok",
      "stderr": "",
      "stdout": "",
      "submitted": "2019-05-14T15:15:25.096245"
     },
     "output_type": "display_data"
    },
    {
     "data": {
      "text/plain": [
       "\u001b[0;31mOut[1:64]: \u001b[0m\n",
       "Data([[[0., 0.],\n",
       "       [0., 0.]]], dtype=float32)"
      ]
     },
     "metadata": {
      "after": [],
      "completed": "2019-05-14T15:15:25.120978",
      "data": {},
      "engine_id": 1,
      "engine_uuid": "49905370-92abc18572b50d1336e92f3b",
      "error": null,
      "execute_input": "u.data\n",
      "execute_result": {
       "data": {
        "text/plain": "Data([[[0., 0.],\n       [0., 0.]]], dtype=float32)"
       },
       "execution_count": 64,
       "metadata": {}
      },
      "follow": [],
      "msg_id": "91803a0c-9c5d8f5a64cb0cd2332197a5",
      "outputs": [],
      "received": "2019-05-14T15:15:25.124048",
      "started": "2019-05-14T15:15:25.099975",
      "status": "ok",
      "stderr": "",
      "stdout": "",
      "submitted": "2019-05-14T15:15:25.096754"
     },
     "output_type": "display_data"
    },
    {
     "data": {
      "text/plain": [
       "\u001b[0;31mOut[2:64]: \u001b[0m\n",
       "Data([[[0., 0.],\n",
       "       [0., 0.]]], dtype=float32)"
      ]
     },
     "metadata": {
      "after": [],
      "completed": "2019-05-14T15:15:25.113721",
      "data": {},
      "engine_id": 2,
      "engine_uuid": "afc812e0-8e830b39f3b854c931b7d023",
      "error": null,
      "execute_input": "u.data\n",
      "execute_result": {
       "data": {
        "text/plain": "Data([[[0., 0.],\n       [0., 0.]]], dtype=float32)"
       },
       "execution_count": 64,
       "metadata": {}
      },
      "follow": [],
      "msg_id": "8141aaad-f27997a537b91e1f76da2083",
      "outputs": [],
      "received": "2019-05-14T15:15:25.117878",
      "started": "2019-05-14T15:15:25.100253",
      "status": "ok",
      "stderr": "",
      "stdout": "",
      "submitted": "2019-05-14T15:15:25.097018"
     },
     "output_type": "display_data"
    },
    {
     "data": {
      "text/plain": [
       "\u001b[0;31mOut[3:64]: \u001b[0m\n",
       "Data([[[0., 0.],\n",
       "       [0., 0.]]], dtype=float32)"
      ]
     },
     "metadata": {
      "after": [],
      "completed": "2019-05-14T15:15:25.114580",
      "data": {},
      "engine_id": 3,
      "engine_uuid": "4b2d635e-f355eff378a1665d25cdf6cc",
      "error": null,
      "execute_input": "u.data\n",
      "execute_result": {
       "data": {
        "text/plain": "Data([[[0., 0.],\n       [0., 0.]]], dtype=float32)"
       },
       "execution_count": 64,
       "metadata": {}
      },
      "follow": [],
      "msg_id": "fe75685d-d1b7c5f2d7d100f093a5038d",
      "outputs": [],
      "received": "2019-05-14T15:15:25.116237",
      "started": "2019-05-14T15:15:25.100212",
      "status": "ok",
      "stderr": "",
      "stdout": "",
      "submitted": "2019-05-14T15:15:25.098269"
     },
     "output_type": "display_data"
    }
   ],
   "source": [
    "%%px\n",
    "u.data"
   ]
  },
  {
   "cell_type": "code",
   "execution_count": 6,
   "metadata": {},
   "outputs": [],
   "source": [
    "import numpy as np"
   ]
  },
  {
   "cell_type": "code",
   "execution_count": 7,
   "metadata": {},
   "outputs": [],
   "source": [
    "shape = (4, 4)\n",
    "a = np.arange(16).reshape(shape)\n",
    "b = a[::-1, ::-1]"
   ]
  },
  {
   "cell_type": "code",
   "execution_count": 8,
   "metadata": {},
   "outputs": [
    {
     "data": {
      "text/plain": [
       "array([[ 0,  1,  2,  3],\n",
       "       [ 4,  5,  6,  7],\n",
       "       [ 8,  9, 10, 11],\n",
       "       [12, 13, 14, 15]])"
      ]
     },
     "execution_count": 8,
     "metadata": {},
     "output_type": "execute_result"
    }
   ],
   "source": [
    "a"
   ]
  },
  {
   "cell_type": "code",
   "execution_count": 9,
   "metadata": {},
   "outputs": [
    {
     "data": {
      "text/plain": [
       "array([[15, 14, 13, 12],\n",
       "       [11, 10,  9,  8],\n",
       "       [ 7,  6,  5,  4],\n",
       "       [ 3,  2,  1,  0]])"
      ]
     },
     "execution_count": 9,
     "metadata": {},
     "output_type": "execute_result"
    }
   ],
   "source": [
    "b"
   ]
  },
  {
   "cell_type": "code",
   "execution_count": 10,
   "metadata": {},
   "outputs": [],
   "source": [
    "%%px\n",
    "u.data[:] = a"
   ]
  },
  {
   "cell_type": "code",
   "execution_count": 11,
   "metadata": {},
   "outputs": [
    {
     "data": {
      "text/plain": [
       "\u001b[0;31mOut[0:68]: \u001b[0m\n",
       "Data([[[0., 1.],\n",
       "       [4., 5.]]], dtype=float32)"
      ]
     },
     "metadata": {
      "after": [],
      "completed": "2019-05-14T15:15:25.226838",
      "data": {},
      "engine_id": 0,
      "engine_uuid": "9fe67ad3-a5c212be85a8d4574a11d195",
      "error": null,
      "execute_input": "u.data\n",
      "execute_result": {
       "data": {
        "text/plain": "Data([[[0., 1.],\n       [4., 5.]]], dtype=float32)"
       },
       "execution_count": 68,
       "metadata": {}
      },
      "follow": [],
      "msg_id": "004135b8-e1ad22195c7827de46493150",
      "outputs": [],
      "received": "2019-05-14T15:15:25.228530",
      "started": "2019-05-14T15:15:25.215427",
      "status": "ok",
      "stderr": "",
      "stdout": "",
      "submitted": "2019-05-14T15:15:25.214189"
     },
     "output_type": "display_data"
    },
    {
     "data": {
      "text/plain": [
       "\u001b[0;31mOut[1:66]: \u001b[0m\n",
       "Data([[[2., 3.],\n",
       "       [6., 7.]]], dtype=float32)"
      ]
     },
     "metadata": {
      "after": [],
      "completed": "2019-05-14T15:15:25.220928",
      "data": {},
      "engine_id": 1,
      "engine_uuid": "49905370-92abc18572b50d1336e92f3b",
      "error": null,
      "execute_input": "u.data\n",
      "execute_result": {
       "data": {
        "text/plain": "Data([[[2., 3.],\n       [6., 7.]]], dtype=float32)"
       },
       "execution_count": 66,
       "metadata": {}
      },
      "follow": [],
      "msg_id": "279d706e-ca5198cb6f4428df0f633d4b",
      "outputs": [],
      "received": "2019-05-14T15:15:25.225359",
      "started": "2019-05-14T15:15:25.215801",
      "status": "ok",
      "stderr": "",
      "stdout": "",
      "submitted": "2019-05-14T15:15:25.214591"
     },
     "output_type": "display_data"
    },
    {
     "data": {
      "text/plain": [
       "\u001b[0;31mOut[2:66]: \u001b[0m\n",
       "Data([[[ 8.,  9.],\n",
       "       [12., 13.]]], dtype=float32)"
      ]
     },
     "metadata": {
      "after": [],
      "completed": "2019-05-14T15:15:25.226840",
      "data": {},
      "engine_id": 2,
      "engine_uuid": "afc812e0-8e830b39f3b854c931b7d023",
      "error": null,
      "execute_input": "u.data\n",
      "execute_result": {
       "data": {
        "text/plain": "Data([[[ 8.,  9.],\n       [12., 13.]]], dtype=float32)"
       },
       "execution_count": 66,
       "metadata": {}
      },
      "follow": [],
      "msg_id": "045c5258-9d26326eb37b8d1b77384e0a",
      "outputs": [],
      "received": "2019-05-14T15:15:25.228010",
      "started": "2019-05-14T15:15:25.216182",
      "status": "ok",
      "stderr": "",
      "stdout": "",
      "submitted": "2019-05-14T15:15:25.215089"
     },
     "output_type": "display_data"
    },
    {
     "data": {
      "text/plain": [
       "\u001b[0;31mOut[3:66]: \u001b[0m\n",
       "Data([[[10., 11.],\n",
       "       [14., 15.]]], dtype=float32)"
      ]
     },
     "metadata": {
      "after": [],
      "completed": "2019-05-14T15:15:25.226993",
      "data": {},
      "engine_id": 3,
      "engine_uuid": "4b2d635e-f355eff378a1665d25cdf6cc",
      "error": null,
      "execute_input": "u.data\n",
      "execute_result": {
       "data": {
        "text/plain": "Data([[[10., 11.],\n       [14., 15.]]], dtype=float32)"
       },
       "execution_count": 66,
       "metadata": {}
      },
      "follow": [],
      "msg_id": "52259877-4cacff50244be74cf83b6491",
      "outputs": [],
      "received": "2019-05-14T15:15:25.230914",
      "started": "2019-05-14T15:15:25.216843",
      "status": "ok",
      "stderr": "",
      "stdout": "",
      "submitted": "2019-05-14T15:15:25.215425"
     },
     "output_type": "display_data"
    }
   ],
   "source": [
    "%%px\n",
    "u.data"
   ]
  },
  {
   "cell_type": "code",
   "execution_count": 18,
   "metadata": {},
   "outputs": [
    {
     "data": {
      "text/plain": [
       "\u001b[0;31mOut[0:75]: \u001b[0mData([], shape=(0, 2), dtype=float32)"
      ]
     },
     "metadata": {
      "after": [],
      "completed": "2019-05-14T15:16:33.776200",
      "data": {},
      "engine_id": 0,
      "engine_uuid": "9fe67ad3-a5c212be85a8d4574a11d195",
      "error": null,
      "execute_input": "u.data[2,2]\n",
      "execute_result": {
       "data": {
        "text/plain": "Data([], shape=(0, 2), dtype=float32)"
       },
       "execution_count": 75,
       "metadata": {}
      },
      "follow": [],
      "msg_id": "eaa5dcae-0914b2be35bdd6ee7faeb19d",
      "outputs": [],
      "received": "2019-05-14T15:16:33.782753",
      "started": "2019-05-14T15:16:33.767376",
      "status": "ok",
      "stderr": "",
      "stdout": "",
      "submitted": "2019-05-14T15:16:33.762592"
     },
     "output_type": "display_data"
    },
    {
     "data": {
      "text/plain": [
       "\u001b[0;31mOut[1:73]: \u001b[0mData([], shape=(0, 2), dtype=float32)"
      ]
     },
     "metadata": {
      "after": [],
      "completed": "2019-05-14T15:16:33.785978",
      "data": {},
      "engine_id": 1,
      "engine_uuid": "49905370-92abc18572b50d1336e92f3b",
      "error": null,
      "execute_input": "u.data[2,2]\n",
      "execute_result": {
       "data": {
        "text/plain": "Data([], shape=(0, 2), dtype=float32)"
       },
       "execution_count": 73,
       "metadata": {}
      },
      "follow": [],
      "msg_id": "fc8784a6-80d4411c38572bccf5e4a1c4",
      "outputs": [],
      "received": "2019-05-14T15:16:33.788429",
      "started": "2019-05-14T15:16:33.771047",
      "status": "ok",
      "stderr": "",
      "stdout": "",
      "submitted": "2019-05-14T15:16:33.763851"
     },
     "output_type": "display_data"
    },
    {
     "data": {
      "text/plain": [
       "\u001b[0;31mOut[2:73]: \u001b[0mData([8., 9.], dtype=float32)"
      ]
     },
     "metadata": {
      "after": [],
      "completed": "2019-05-14T15:16:33.781124",
      "data": {},
      "engine_id": 2,
      "engine_uuid": "afc812e0-8e830b39f3b854c931b7d023",
      "error": null,
      "execute_input": "u.data[2,2]\n",
      "execute_result": {
       "data": {
        "text/plain": "Data([8., 9.], dtype=float32)"
       },
       "execution_count": 73,
       "metadata": {}
      },
      "follow": [],
      "msg_id": "5f8fd2fb-9db74ae80dd33d88754f4f8c",
      "outputs": [],
      "received": "2019-05-14T15:16:33.787452",
      "started": "2019-05-14T15:16:33.769856",
      "status": "ok",
      "stderr": "",
      "stdout": "",
      "submitted": "2019-05-14T15:16:33.764232"
     },
     "output_type": "display_data"
    },
    {
     "data": {
      "text/plain": [
       "\u001b[0;31mOut[3:73]: \u001b[0mData([10., 11.], dtype=float32)"
      ]
     },
     "metadata": {
      "after": [],
      "completed": "2019-05-14T15:16:33.786299",
      "data": {},
      "engine_id": 3,
      "engine_uuid": "4b2d635e-f355eff378a1665d25cdf6cc",
      "error": null,
      "execute_input": "u.data[2,2]\n",
      "execute_result": {
       "data": {
        "text/plain": "Data([10., 11.], dtype=float32)"
       },
       "execution_count": 73,
       "metadata": {}
      },
      "follow": [],
      "msg_id": "fd8e6f02-cbf623a18ca3218a513a4e2b",
      "outputs": [],
      "received": "2019-05-14T15:16:33.790027",
      "started": "2019-05-14T15:16:33.770294",
      "status": "ok",
      "stderr": "",
      "stdout": "",
      "submitted": "2019-05-14T15:16:33.765022"
     },
     "output_type": "display_data"
    }
   ],
   "source": [
    "%%px\n",
    "u.data[2,2]"
   ]
  },
  {
   "cell_type": "code",
   "execution_count": null,
   "metadata": {},
   "outputs": [],
   "source": []
  }
 ],
 "metadata": {
  "kernelspec": {
   "display_name": "Python (devito)",
   "language": "python",
   "name": "devito"
  },
  "language_info": {
   "codemirror_mode": {
    "name": "ipython",
    "version": 3
   },
   "file_extension": ".py",
   "mimetype": "text/x-python",
   "name": "python",
   "nbconvert_exporter": "python",
   "pygments_lexer": "ipython3",
   "version": "3.6.8"
  }
 },
 "nbformat": 4,
 "nbformat_minor": 2
}
