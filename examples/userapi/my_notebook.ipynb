{
 "cells": [
  {
   "cell_type": "markdown",
   "metadata": {},
   "source": [
    "## Launch and connect to an ipyparallel cluster\n",
    "\n",
    "```\n",
    "ipcluster start --profile=mpi -n 4\n",
    "```"
   ]
  },
  {
   "cell_type": "code",
   "execution_count": 1,
   "metadata": {},
   "outputs": [],
   "source": [
    "import ipyparallel as ipp\n",
    "c = ipp.Client(profile='mpi')"
   ]
  },
  {
   "cell_type": "code",
   "execution_count": 2,
   "metadata": {},
   "outputs": [
    {
     "name": "stdout",
     "output_type": "stream",
     "text": [
      "[stdout:0] Hi, I'm rank 0.\n",
      "[stdout:1] Hi, I'm rank 1.\n",
      "[stdout:2] Hi, I'm rank 2.\n",
      "[stdout:3] Hi, I'm rank 3.\n"
     ]
    }
   ],
   "source": [
    "%%px\n",
    "from mpi4py import MPI\n",
    "print(f\"Hi, I'm rank %d.\" % MPI.COMM_WORLD.rank)"
   ]
  },
  {
   "cell_type": "markdown",
   "metadata": {},
   "source": [
    "To enable MPI, users have two options. Either export the environment variable `DEVITO_MPI=1` or, programmatically:"
   ]
  },
  {
   "cell_type": "code",
   "execution_count": 3,
   "metadata": {},
   "outputs": [],
   "source": [
    "%%px\n",
    "from devito import configuration\n",
    "configuration['mpi'] = True"
   ]
  },
  {
   "cell_type": "code",
   "execution_count": 4,
   "metadata": {},
   "outputs": [],
   "source": [
    "%%px\n",
    "from devito import Grid, Function, Eq, Operator \n",
    "grid = Grid(shape=(4, 4))\n",
    "u = Function(name=\"u\", grid=grid, space_order=2, time_order=0)"
   ]
  },
  {
   "cell_type": "code",
   "execution_count": 5,
   "metadata": {
    "scrolled": false
   },
   "outputs": [
    {
     "data": {
      "text/plain": [
       "\u001b[0;31mOut[0:22]: \u001b[0m\n",
       "Data([[0., 0.],\n",
       "      [0., 0.]], dtype=float32)"
      ]
     },
     "metadata": {
      "after": [],
      "completed": "2019-05-16T15:15:03.112994",
      "data": {},
      "engine_id": 0,
      "engine_uuid": "ccd60335-e30b83bc86e77d2548036c55",
      "error": null,
      "execute_input": "u.data\n",
      "execute_result": {
       "data": {
        "text/plain": "Data([[0., 0.],\n      [0., 0.]], dtype=float32)"
       },
       "execution_count": 22,
       "metadata": {}
      },
      "follow": [],
      "msg_id": "72f6cd85-41ead513a7581d4729c4e7e2",
      "outputs": [],
      "received": "2019-05-16T15:15:03.116778",
      "started": "2019-05-16T15:15:03.092768",
      "status": "ok",
      "stderr": "",
      "stdout": "",
      "submitted": "2019-05-16T15:15:03.088394"
     },
     "output_type": "display_data"
    },
    {
     "data": {
      "text/plain": [
       "\u001b[0;31mOut[1:22]: \u001b[0m\n",
       "Data([[0., 0.],\n",
       "      [0., 0.]], dtype=float32)"
      ]
     },
     "metadata": {
      "after": [],
      "completed": "2019-05-16T15:15:03.112617",
      "data": {},
      "engine_id": 1,
      "engine_uuid": "1adeee6e-5fff85121d29b704bdd80969",
      "error": null,
      "execute_input": "u.data\n",
      "execute_result": {
       "data": {
        "text/plain": "Data([[0., 0.],\n      [0., 0.]], dtype=float32)"
       },
       "execution_count": 22,
       "metadata": {}
      },
      "follow": [],
      "msg_id": "f8311c5e-f60f658e188a9d8254095854",
      "outputs": [],
      "received": "2019-05-16T15:15:03.114454",
      "started": "2019-05-16T15:15:03.095729",
      "status": "ok",
      "stderr": "",
      "stdout": "",
      "submitted": "2019-05-16T15:15:03.089169"
     },
     "output_type": "display_data"
    },
    {
     "data": {
      "text/plain": [
       "\u001b[0;31mOut[2:22]: \u001b[0m\n",
       "Data([[0., 0.],\n",
       "      [0., 0.]], dtype=float32)"
      ]
     },
     "metadata": {
      "after": [],
      "completed": "2019-05-16T15:15:03.111735",
      "data": {},
      "engine_id": 2,
      "engine_uuid": "1e0f4e07-72a816bc8fd35cb55fe20a57",
      "error": null,
      "execute_input": "u.data\n",
      "execute_result": {
       "data": {
        "text/plain": "Data([[0., 0.],\n      [0., 0.]], dtype=float32)"
       },
       "execution_count": 22,
       "metadata": {}
      },
      "follow": [],
      "msg_id": "e927962e-a37f5a324f722d375615e094",
      "outputs": [],
      "received": "2019-05-16T15:15:03.117906",
      "started": "2019-05-16T15:15:03.096313",
      "status": "ok",
      "stderr": "",
      "stdout": "",
      "submitted": "2019-05-16T15:15:03.089324"
     },
     "output_type": "display_data"
    },
    {
     "data": {
      "text/plain": [
       "\u001b[0;31mOut[3:22]: \u001b[0m\n",
       "Data([[0., 0.],\n",
       "      [0., 0.]], dtype=float32)"
      ]
     },
     "metadata": {
      "after": [],
      "completed": "2019-05-16T15:15:03.112179",
      "data": {},
      "engine_id": 3,
      "engine_uuid": "67fb8e1c-b48489d69ad1e12961ede22e",
      "error": null,
      "execute_input": "u.data\n",
      "execute_result": {
       "data": {
        "text/plain": "Data([[0., 0.],\n      [0., 0.]], dtype=float32)"
       },
       "execution_count": 22,
       "metadata": {}
      },
      "follow": [],
      "msg_id": "c16f48d7-9934f717d3b60d6cfca1e423",
      "outputs": [],
      "received": "2019-05-16T15:15:03.115593",
      "started": "2019-05-16T15:15:03.096738",
      "status": "ok",
      "stderr": "",
      "stdout": "",
      "submitted": "2019-05-16T15:15:03.089486"
     },
     "output_type": "display_data"
    }
   ],
   "source": [
    "%%px\n",
    "u.data"
   ]
  },
  {
   "cell_type": "code",
   "execution_count": 6,
   "metadata": {},
   "outputs": [],
   "source": [
    "%%px\n",
    "import numpy as np"
   ]
  },
  {
   "cell_type": "code",
   "execution_count": 7,
   "metadata": {},
   "outputs": [],
   "source": [
    "%%px\n",
    "shape = (4, 4)\n",
    "a = np.arange(16).reshape(shape)\n",
    "b = a[::-1, ::-1]"
   ]
  },
  {
   "cell_type": "code",
   "execution_count": 8,
   "metadata": {},
   "outputs": [
    {
     "data": {
      "text/plain": [
       "\u001b[0;31mOut[0:25]: \u001b[0m\n",
       "array([[ 0,  1,  2,  3],\n",
       "       [ 4,  5,  6,  7],\n",
       "       [ 8,  9, 10, 11],\n",
       "       [12, 13, 14, 15]])"
      ]
     },
     "metadata": {
      "after": [],
      "completed": "2019-05-16T15:15:09.540320",
      "data": {},
      "engine_id": 0,
      "engine_uuid": "ccd60335-e30b83bc86e77d2548036c55",
      "error": null,
      "execute_input": "a\n",
      "execute_result": {
       "data": {
        "text/plain": "array([[ 0,  1,  2,  3],\n       [ 4,  5,  6,  7],\n       [ 8,  9, 10, 11],\n       [12, 13, 14, 15]])"
       },
       "execution_count": 25,
       "metadata": {}
      },
      "follow": [],
      "msg_id": "c9042f91-18984b94a9cf9d9ffca0e475",
      "outputs": [],
      "received": "2019-05-16T15:15:09.549025",
      "started": "2019-05-16T15:15:09.536085",
      "status": "ok",
      "stderr": "",
      "stdout": "",
      "submitted": "2019-05-16T15:15:09.532107"
     },
     "output_type": "display_data"
    },
    {
     "data": {
      "text/plain": [
       "\u001b[0;31mOut[1:25]: \u001b[0m\n",
       "array([[ 0,  1,  2,  3],\n",
       "       [ 4,  5,  6,  7],\n",
       "       [ 8,  9, 10, 11],\n",
       "       [12, 13, 14, 15]])"
      ]
     },
     "metadata": {
      "after": [],
      "completed": "2019-05-16T15:15:09.543198",
      "data": {},
      "engine_id": 1,
      "engine_uuid": "1adeee6e-5fff85121d29b704bdd80969",
      "error": null,
      "execute_input": "a\n",
      "execute_result": {
       "data": {
        "text/plain": "array([[ 0,  1,  2,  3],\n       [ 4,  5,  6,  7],\n       [ 8,  9, 10, 11],\n       [12, 13, 14, 15]])"
       },
       "execution_count": 25,
       "metadata": {}
      },
      "follow": [],
      "msg_id": "a241e041-df1bcf205c1539b8c4474f79",
      "outputs": [],
      "received": "2019-05-16T15:15:09.547359",
      "started": "2019-05-16T15:15:09.537771",
      "status": "ok",
      "stderr": "",
      "stdout": "",
      "submitted": "2019-05-16T15:15:09.533570"
     },
     "output_type": "display_data"
    },
    {
     "data": {
      "text/plain": [
       "\u001b[0;31mOut[2:25]: \u001b[0m\n",
       "array([[ 0,  1,  2,  3],\n",
       "       [ 4,  5,  6,  7],\n",
       "       [ 8,  9, 10, 11],\n",
       "       [12, 13, 14, 15]])"
      ]
     },
     "metadata": {
      "after": [],
      "completed": "2019-05-16T15:15:09.542258",
      "data": {},
      "engine_id": 2,
      "engine_uuid": "1e0f4e07-72a816bc8fd35cb55fe20a57",
      "error": null,
      "execute_input": "a\n",
      "execute_result": {
       "data": {
        "text/plain": "array([[ 0,  1,  2,  3],\n       [ 4,  5,  6,  7],\n       [ 8,  9, 10, 11],\n       [12, 13, 14, 15]])"
       },
       "execution_count": 25,
       "metadata": {}
      },
      "follow": [],
      "msg_id": "b6280695-f2f6fd634341158e0ca69cfd",
      "outputs": [],
      "received": "2019-05-16T15:15:09.545717",
      "started": "2019-05-16T15:15:09.539083",
      "status": "ok",
      "stderr": "",
      "stdout": "",
      "submitted": "2019-05-16T15:15:09.534057"
     },
     "output_type": "display_data"
    },
    {
     "data": {
      "text/plain": [
       "\u001b[0;31mOut[3:25]: \u001b[0m\n",
       "array([[ 0,  1,  2,  3],\n",
       "       [ 4,  5,  6,  7],\n",
       "       [ 8,  9, 10, 11],\n",
       "       [12, 13, 14, 15]])"
      ]
     },
     "metadata": {
      "after": [],
      "completed": "2019-05-16T15:15:09.543949",
      "data": {},
      "engine_id": 3,
      "engine_uuid": "67fb8e1c-b48489d69ad1e12961ede22e",
      "error": null,
      "execute_input": "a\n",
      "execute_result": {
       "data": {
        "text/plain": "array([[ 0,  1,  2,  3],\n       [ 4,  5,  6,  7],\n       [ 8,  9, 10, 11],\n       [12, 13, 14, 15]])"
       },
       "execution_count": 25,
       "metadata": {}
      },
      "follow": [],
      "msg_id": "88281223-4190cbe51e609627e157f21a",
      "outputs": [],
      "received": "2019-05-16T15:15:09.548254",
      "started": "2019-05-16T15:15:09.538114",
      "status": "ok",
      "stderr": "",
      "stdout": "",
      "submitted": "2019-05-16T15:15:09.534354"
     },
     "output_type": "display_data"
    }
   ],
   "source": [
    "%%px\n",
    "a"
   ]
  },
  {
   "cell_type": "code",
   "execution_count": 9,
   "metadata": {},
   "outputs": [
    {
     "data": {
      "text/plain": [
       "\u001b[0;31mOut[0:26]: \u001b[0m\n",
       "array([[15, 14, 13, 12],\n",
       "       [11, 10,  9,  8],\n",
       "       [ 7,  6,  5,  4],\n",
       "       [ 3,  2,  1,  0]])"
      ]
     },
     "metadata": {
      "after": [],
      "completed": "2019-05-16T15:15:11.320910",
      "data": {},
      "engine_id": 0,
      "engine_uuid": "ccd60335-e30b83bc86e77d2548036c55",
      "error": null,
      "execute_input": "b\n",
      "execute_result": {
       "data": {
        "text/plain": "array([[15, 14, 13, 12],\n       [11, 10,  9,  8],\n       [ 7,  6,  5,  4],\n       [ 3,  2,  1,  0]])"
       },
       "execution_count": 26,
       "metadata": {}
      },
      "follow": [],
      "msg_id": "3d773753-0247c34922fd445bad1fea57",
      "outputs": [],
      "received": "2019-05-16T15:15:11.329523",
      "started": "2019-05-16T15:15:11.317829",
      "status": "ok",
      "stderr": "",
      "stdout": "",
      "submitted": "2019-05-16T15:15:11.314524"
     },
     "output_type": "display_data"
    },
    {
     "data": {
      "text/plain": [
       "\u001b[0;31mOut[1:26]: \u001b[0m\n",
       "array([[15, 14, 13, 12],\n",
       "       [11, 10,  9,  8],\n",
       "       [ 7,  6,  5,  4],\n",
       "       [ 3,  2,  1,  0]])"
      ]
     },
     "metadata": {
      "after": [],
      "completed": "2019-05-16T15:15:11.322211",
      "data": {},
      "engine_id": 1,
      "engine_uuid": "1adeee6e-5fff85121d29b704bdd80969",
      "error": null,
      "execute_input": "b\n",
      "execute_result": {
       "data": {
        "text/plain": "array([[15, 14, 13, 12],\n       [11, 10,  9,  8],\n       [ 7,  6,  5,  4],\n       [ 3,  2,  1,  0]])"
       },
       "execution_count": 26,
       "metadata": {}
      },
      "follow": [],
      "msg_id": "d37c93d7-9df41ff763f37744e37f4ffb",
      "outputs": [],
      "received": "2019-05-16T15:15:11.326643",
      "started": "2019-05-16T15:15:11.318064",
      "status": "ok",
      "stderr": "",
      "stdout": "",
      "submitted": "2019-05-16T15:15:11.314782"
     },
     "output_type": "display_data"
    },
    {
     "data": {
      "text/plain": [
       "\u001b[0;31mOut[2:26]: \u001b[0m\n",
       "array([[15, 14, 13, 12],\n",
       "       [11, 10,  9,  8],\n",
       "       [ 7,  6,  5,  4],\n",
       "       [ 3,  2,  1,  0]])"
      ]
     },
     "metadata": {
      "after": [],
      "completed": "2019-05-16T15:15:11.322474",
      "data": {},
      "engine_id": 2,
      "engine_uuid": "1e0f4e07-72a816bc8fd35cb55fe20a57",
      "error": null,
      "execute_input": "b\n",
      "execute_result": {
       "data": {
        "text/plain": "array([[15, 14, 13, 12],\n       [11, 10,  9,  8],\n       [ 7,  6,  5,  4],\n       [ 3,  2,  1,  0]])"
       },
       "execution_count": 26,
       "metadata": {}
      },
      "follow": [],
      "msg_id": "38e1131b-dc5050076713d81410f95e6e",
      "outputs": [],
      "received": "2019-05-16T15:15:11.324935",
      "started": "2019-05-16T15:15:11.319207",
      "status": "ok",
      "stderr": "",
      "stdout": "",
      "submitted": "2019-05-16T15:15:11.315687"
     },
     "output_type": "display_data"
    },
    {
     "data": {
      "text/plain": [
       "\u001b[0;31mOut[3:26]: \u001b[0m\n",
       "array([[15, 14, 13, 12],\n",
       "       [11, 10,  9,  8],\n",
       "       [ 7,  6,  5,  4],\n",
       "       [ 3,  2,  1,  0]])"
      ]
     },
     "metadata": {
      "after": [],
      "completed": "2019-05-16T15:15:11.324682",
      "data": {},
      "engine_id": 3,
      "engine_uuid": "67fb8e1c-b48489d69ad1e12961ede22e",
      "error": null,
      "execute_input": "b\n",
      "execute_result": {
       "data": {
        "text/plain": "array([[15, 14, 13, 12],\n       [11, 10,  9,  8],\n       [ 7,  6,  5,  4],\n       [ 3,  2,  1,  0]])"
       },
       "execution_count": 26,
       "metadata": {}
      },
      "follow": [],
      "msg_id": "fb1e2315-6e7619b7d9ff0ae3a99af900",
      "outputs": [],
      "received": "2019-05-16T15:15:11.328114",
      "started": "2019-05-16T15:15:11.320310",
      "status": "ok",
      "stderr": "",
      "stdout": "",
      "submitted": "2019-05-16T15:15:11.315846"
     },
     "output_type": "display_data"
    }
   ],
   "source": [
    "%%px\n",
    "b"
   ]
  },
  {
   "cell_type": "code",
   "execution_count": 10,
   "metadata": {},
   "outputs": [],
   "source": [
    "%%px\n",
    "u.data[:] = a"
   ]
  },
  {
   "cell_type": "code",
   "execution_count": 11,
   "metadata": {},
   "outputs": [
    {
     "data": {
      "text/plain": [
       "\u001b[0;31mOut[0:28]: \u001b[0m\n",
       "Data([[0., 1.],\n",
       "      [4., 5.]], dtype=float32)"
      ]
     },
     "metadata": {
      "after": [],
      "completed": "2019-05-16T15:15:17.299040",
      "data": {},
      "engine_id": 0,
      "engine_uuid": "ccd60335-e30b83bc86e77d2548036c55",
      "error": null,
      "execute_input": "u.data\n",
      "execute_result": {
       "data": {
        "text/plain": "Data([[0., 1.],\n      [4., 5.]], dtype=float32)"
       },
       "execution_count": 28,
       "metadata": {}
      },
      "follow": [],
      "msg_id": "d05e78f8-d00395c9918f4aeecc8fd692",
      "outputs": [],
      "received": "2019-05-16T15:15:17.302928",
      "started": "2019-05-16T15:15:17.292626",
      "status": "ok",
      "stderr": "",
      "stdout": "",
      "submitted": "2019-05-16T15:15:17.288084"
     },
     "output_type": "display_data"
    },
    {
     "data": {
      "text/plain": [
       "\u001b[0;31mOut[1:28]: \u001b[0m\n",
       "Data([[2., 3.],\n",
       "      [6., 7.]], dtype=float32)"
      ]
     },
     "metadata": {
      "after": [],
      "completed": "2019-05-16T15:15:17.296856",
      "data": {},
      "engine_id": 1,
      "engine_uuid": "1adeee6e-5fff85121d29b704bdd80969",
      "error": null,
      "execute_input": "u.data\n",
      "execute_result": {
       "data": {
        "text/plain": "Data([[2., 3.],\n      [6., 7.]], dtype=float32)"
       },
       "execution_count": 28,
       "metadata": {}
      },
      "follow": [],
      "msg_id": "ef95394e-8e90e2c823cecfbcaba63286",
      "outputs": [],
      "received": "2019-05-16T15:15:17.300975",
      "started": "2019-05-16T15:15:17.293101",
      "status": "ok",
      "stderr": "",
      "stdout": "",
      "submitted": "2019-05-16T15:15:17.289293"
     },
     "output_type": "display_data"
    },
    {
     "data": {
      "text/plain": [
       "\u001b[0;31mOut[2:28]: \u001b[0m\n",
       "Data([[ 8.,  9.],\n",
       "      [12., 13.]], dtype=float32)"
      ]
     },
     "metadata": {
      "after": [],
      "completed": "2019-05-16T15:15:17.296923",
      "data": {},
      "engine_id": 2,
      "engine_uuid": "1e0f4e07-72a816bc8fd35cb55fe20a57",
      "error": null,
      "execute_input": "u.data\n",
      "execute_result": {
       "data": {
        "text/plain": "Data([[ 8.,  9.],\n      [12., 13.]], dtype=float32)"
       },
       "execution_count": 28,
       "metadata": {}
      },
      "follow": [],
      "msg_id": "ac5bc0df-261d231eb2ccc0634c2aa8aa",
      "outputs": [],
      "received": "2019-05-16T15:15:17.301984",
      "started": "2019-05-16T15:15:17.293292",
      "status": "ok",
      "stderr": "",
      "stdout": "",
      "submitted": "2019-05-16T15:15:17.289897"
     },
     "output_type": "display_data"
    },
    {
     "data": {
      "text/plain": [
       "\u001b[0;31mOut[3:28]: \u001b[0m\n",
       "Data([[10., 11.],\n",
       "      [14., 15.]], dtype=float32)"
      ]
     },
     "metadata": {
      "after": [],
      "completed": "2019-05-16T15:15:17.299318",
      "data": {},
      "engine_id": 3,
      "engine_uuid": "67fb8e1c-b48489d69ad1e12961ede22e",
      "error": null,
      "execute_input": "u.data\n",
      "execute_result": {
       "data": {
        "text/plain": "Data([[10., 11.],\n      [14., 15.]], dtype=float32)"
       },
       "execution_count": 28,
       "metadata": {}
      },
      "follow": [],
      "msg_id": "ad7126bb-33557a6dbc3c9520431eee48",
      "outputs": [],
      "received": "2019-05-16T15:15:17.303885",
      "started": "2019-05-16T15:15:17.294845",
      "status": "ok",
      "stderr": "",
      "stdout": "",
      "submitted": "2019-05-16T15:15:17.291175"
     },
     "output_type": "display_data"
    }
   ],
   "source": [
    "%%px\n",
    "u.data"
   ]
  },
  {
   "cell_type": "code",
   "execution_count": 12,
   "metadata": {},
   "outputs": [
    {
     "data": {
      "text/plain": [
       "\u001b[0;31mOut[3:29]: \u001b[0m15.0"
      ]
     },
     "metadata": {
      "after": [],
      "completed": "2019-05-16T15:15:21.986249",
      "data": {},
      "engine_id": 3,
      "engine_uuid": "67fb8e1c-b48489d69ad1e12961ede22e",
      "error": null,
      "execute_input": "u.data[3, 3]\n",
      "execute_result": {
       "data": {
        "text/plain": "15.0"
       },
       "execution_count": 29,
       "metadata": {}
      },
      "follow": [],
      "msg_id": "f769533b-e84281ab25a8792a99117f78",
      "outputs": [],
      "received": "2019-05-16T15:15:21.989880",
      "started": "2019-05-16T15:15:21.982608",
      "status": "ok",
      "stderr": "",
      "stdout": "",
      "submitted": "2019-05-16T15:15:21.979449"
     },
     "output_type": "display_data"
    }
   ],
   "source": [
    "%%px\n",
    "u.data[3, 3]"
   ]
  },
  {
   "cell_type": "code",
   "execution_count": 14,
   "metadata": {},
   "outputs": [
    {
     "data": {
      "text/plain": [
       "\u001b[0;31mOut[0:31]: \u001b[0mData([[5.]], dtype=float32)"
      ]
     },
     "metadata": {
      "after": [],
      "completed": "2019-05-16T15:15:46.821728",
      "data": {},
      "engine_id": 0,
      "engine_uuid": "ccd60335-e30b83bc86e77d2548036c55",
      "error": null,
      "execute_input": "u.data[2:0:-1, 2:0:-1]\n",
      "execute_result": {
       "data": {
        "text/plain": "Data([[5.]], dtype=float32)"
       },
       "execution_count": 31,
       "metadata": {}
      },
      "follow": [],
      "msg_id": "6d3ed3bb-0ac43d701afd453e639e1a78",
      "outputs": [],
      "received": "2019-05-16T15:15:46.828725",
      "started": "2019-05-16T15:15:46.816905",
      "status": "ok",
      "stderr": "",
      "stdout": "",
      "submitted": "2019-05-16T15:15:46.812621"
     },
     "output_type": "display_data"
    },
    {
     "data": {
      "text/plain": [
       "\u001b[0;31mOut[1:31]: \u001b[0mData([[6.]], dtype=float32)"
      ]
     },
     "metadata": {
      "after": [],
      "completed": "2019-05-16T15:15:46.821961",
      "data": {},
      "engine_id": 1,
      "engine_uuid": "1adeee6e-5fff85121d29b704bdd80969",
      "error": null,
      "execute_input": "u.data[2:0:-1, 2:0:-1]\n",
      "execute_result": {
       "data": {
        "text/plain": "Data([[6.]], dtype=float32)"
       },
       "execution_count": 31,
       "metadata": {}
      },
      "follow": [],
      "msg_id": "abd6d2b1-ebd094d2c1a45528a3c5d6f8",
      "outputs": [],
      "received": "2019-05-16T15:15:46.829875",
      "started": "2019-05-16T15:15:46.817803",
      "status": "ok",
      "stderr": "",
      "stdout": "",
      "submitted": "2019-05-16T15:15:46.813012"
     },
     "output_type": "display_data"
    },
    {
     "data": {
      "text/plain": [
       "\u001b[0;31mOut[2:31]: \u001b[0mData([[9.]], dtype=float32)"
      ]
     },
     "metadata": {
      "after": [],
      "completed": "2019-05-16T15:15:46.822180",
      "data": {},
      "engine_id": 2,
      "engine_uuid": "1e0f4e07-72a816bc8fd35cb55fe20a57",
      "error": null,
      "execute_input": "u.data[2:0:-1, 2:0:-1]\n",
      "execute_result": {
       "data": {
        "text/plain": "Data([[9.]], dtype=float32)"
       },
       "execution_count": 31,
       "metadata": {}
      },
      "follow": [],
      "msg_id": "85d5ffd8-9f436012767d9b39a3e2b27e",
      "outputs": [],
      "received": "2019-05-16T15:15:46.831031",
      "started": "2019-05-16T15:15:46.817556",
      "status": "ok",
      "stderr": "",
      "stdout": "",
      "submitted": "2019-05-16T15:15:46.814379"
     },
     "output_type": "display_data"
    },
    {
     "data": {
      "text/plain": [
       "\u001b[0;31mOut[3:31]: \u001b[0mData([[10.]], dtype=float32)"
      ]
     },
     "metadata": {
      "after": [],
      "completed": "2019-05-16T15:15:46.824311",
      "data": {},
      "engine_id": 3,
      "engine_uuid": "67fb8e1c-b48489d69ad1e12961ede22e",
      "error": null,
      "execute_input": "u.data[2:0:-1, 2:0:-1]\n",
      "execute_result": {
       "data": {
        "text/plain": "Data([[10.]], dtype=float32)"
       },
       "execution_count": 31,
       "metadata": {}
      },
      "follow": [],
      "msg_id": "4c5b28fd-d7909334d10939b832e2a16c",
      "outputs": [],
      "received": "2019-05-16T15:15:46.832154",
      "started": "2019-05-16T15:15:46.817999",
      "status": "ok",
      "stderr": "",
      "stdout": "",
      "submitted": "2019-05-16T15:15:46.814880"
     },
     "output_type": "display_data"
    }
   ],
   "source": [
    "%%px\n",
    "u.data[2:0:-1, 2:0:-1]"
   ]
  },
  {
   "cell_type": "code",
   "execution_count": 15,
   "metadata": {},
   "outputs": [
    {
     "data": {
      "text/plain": [
       "\u001b[0;31mOut[0:32]: \u001b[0m\n",
       "Data([[0., 1.],\n",
       "      [4., 5.]], dtype=float32)"
      ]
     },
     "metadata": {
      "after": [],
      "completed": "2019-05-16T15:16:19.610483",
      "data": {},
      "engine_id": 0,
      "engine_uuid": "ccd60335-e30b83bc86e77d2548036c55",
      "error": null,
      "execute_input": "u.data[:, :]\n",
      "execute_result": {
       "data": {
        "text/plain": "Data([[0., 1.],\n      [4., 5.]], dtype=float32)"
       },
       "execution_count": 32,
       "metadata": {}
      },
      "follow": [],
      "msg_id": "545a3bfb-9d80d93c8a356fdfcc67bd1b",
      "outputs": [],
      "received": "2019-05-16T15:16:19.613445",
      "started": "2019-05-16T15:16:19.604291",
      "status": "ok",
      "stderr": "",
      "stdout": "",
      "submitted": "2019-05-16T15:16:19.600217"
     },
     "output_type": "display_data"
    },
    {
     "data": {
      "text/plain": [
       "\u001b[0;31mOut[1:32]: \u001b[0m\n",
       "Data([[2., 3.],\n",
       "      [6., 7.]], dtype=float32)"
      ]
     },
     "metadata": {
      "after": [],
      "completed": "2019-05-16T15:16:19.607816",
      "data": {},
      "engine_id": 1,
      "engine_uuid": "1adeee6e-5fff85121d29b704bdd80969",
      "error": null,
      "execute_input": "u.data[:, :]\n",
      "execute_result": {
       "data": {
        "text/plain": "Data([[2., 3.],\n      [6., 7.]], dtype=float32)"
       },
       "execution_count": 32,
       "metadata": {}
      },
      "follow": [],
      "msg_id": "49def83c-c9fc3708d08ee0824462ae8f",
      "outputs": [],
      "received": "2019-05-16T15:16:19.610403",
      "started": "2019-05-16T15:16:19.603711",
      "status": "ok",
      "stderr": "",
      "stdout": "",
      "submitted": "2019-05-16T15:16:19.601169"
     },
     "output_type": "display_data"
    },
    {
     "data": {
      "text/plain": [
       "\u001b[0;31mOut[2:32]: \u001b[0m\n",
       "Data([[ 8.,  9.],\n",
       "      [12., 13.]], dtype=float32)"
      ]
     },
     "metadata": {
      "after": [],
      "completed": "2019-05-16T15:16:19.610359",
      "data": {},
      "engine_id": 2,
      "engine_uuid": "1e0f4e07-72a816bc8fd35cb55fe20a57",
      "error": null,
      "execute_input": "u.data[:, :]\n",
      "execute_result": {
       "data": {
        "text/plain": "Data([[ 8.,  9.],\n      [12., 13.]], dtype=float32)"
       },
       "execution_count": 32,
       "metadata": {}
      },
      "follow": [],
      "msg_id": "bdd055a1-945e72a2138d27dd77ece2d2",
      "outputs": [],
      "received": "2019-05-16T15:16:19.612656",
      "started": "2019-05-16T15:16:19.604823",
      "status": "ok",
      "stderr": "",
      "stdout": "",
      "submitted": "2019-05-16T15:16:19.601732"
     },
     "output_type": "display_data"
    },
    {
     "data": {
      "text/plain": [
       "\u001b[0;31mOut[3:32]: \u001b[0m\n",
       "Data([[10., 11.],\n",
       "      [14., 15.]], dtype=float32)"
      ]
     },
     "metadata": {
      "after": [],
      "completed": "2019-05-16T15:16:19.608750",
      "data": {},
      "engine_id": 3,
      "engine_uuid": "67fb8e1c-b48489d69ad1e12961ede22e",
      "error": null,
      "execute_input": "u.data[:, :]\n",
      "execute_result": {
       "data": {
        "text/plain": "Data([[10., 11.],\n      [14., 15.]], dtype=float32)"
       },
       "execution_count": 32,
       "metadata": {}
      },
      "follow": [],
      "msg_id": "20e262f1-9ce11d2d8a2bc0219848d844",
      "outputs": [],
      "received": "2019-05-16T15:16:19.611304",
      "started": "2019-05-16T15:16:19.603995",
      "status": "ok",
      "stderr": "",
      "stdout": "",
      "submitted": "2019-05-16T15:16:19.602186"
     },
     "output_type": "display_data"
    }
   ],
   "source": [
    "%%px\n",
    "u.data[:, :]"
   ]
  },
  {
   "cell_type": "code",
   "execution_count": 16,
   "metadata": {},
   "outputs": [
    {
     "data": {
      "text/plain": [
       "\u001b[0;31mOut[0:33]: \u001b[0m\n",
       "Data([[5., 4.],\n",
       "      [1., 0.]], dtype=float32)"
      ]
     },
     "metadata": {
      "after": [],
      "completed": "2019-05-16T15:16:25.795894",
      "data": {},
      "engine_id": 0,
      "engine_uuid": "ccd60335-e30b83bc86e77d2548036c55",
      "error": null,
      "execute_input": "u.data[::-1, ::-1]\n",
      "execute_result": {
       "data": {
        "text/plain": "Data([[5., 4.],\n      [1., 0.]], dtype=float32)"
       },
       "execution_count": 33,
       "metadata": {}
      },
      "follow": [],
      "msg_id": "8ab2ce59-4eb58cbc20fe3dcb971c66d4",
      "outputs": [],
      "received": "2019-05-16T15:16:25.797710",
      "started": "2019-05-16T15:16:25.784901",
      "status": "ok",
      "stderr": "",
      "stdout": "",
      "submitted": "2019-05-16T15:16:25.782564"
     },
     "output_type": "display_data"
    },
    {
     "data": {
      "text/plain": [
       "\u001b[0;31mOut[1:33]: \u001b[0m\n",
       "Data([[7., 6.],\n",
       "      [3., 2.]], dtype=float32)"
      ]
     },
     "metadata": {
      "after": [],
      "completed": "2019-05-16T15:16:25.797447",
      "data": {},
      "engine_id": 1,
      "engine_uuid": "1adeee6e-5fff85121d29b704bdd80969",
      "error": null,
      "execute_input": "u.data[::-1, ::-1]\n",
      "execute_result": {
       "data": {
        "text/plain": "Data([[7., 6.],\n      [3., 2.]], dtype=float32)"
       },
       "execution_count": 33,
       "metadata": {}
      },
      "follow": [],
      "msg_id": "14cec28e-d81496b6e30088fc923a9b99",
      "outputs": [],
      "received": "2019-05-16T15:16:25.800211",
      "started": "2019-05-16T15:16:25.789432",
      "status": "ok",
      "stderr": "",
      "stdout": "",
      "submitted": "2019-05-16T15:16:25.783449"
     },
     "output_type": "display_data"
    },
    {
     "data": {
      "text/plain": [
       "\u001b[0;31mOut[2:33]: \u001b[0m\n",
       "Data([[13., 12.],\n",
       "      [ 9.,  8.]], dtype=float32)"
      ]
     },
     "metadata": {
      "after": [],
      "completed": "2019-05-16T15:16:25.805086",
      "data": {},
      "engine_id": 2,
      "engine_uuid": "1e0f4e07-72a816bc8fd35cb55fe20a57",
      "error": null,
      "execute_input": "u.data[::-1, ::-1]\n",
      "execute_result": {
       "data": {
        "text/plain": "Data([[13., 12.],\n      [ 9.,  8.]], dtype=float32)"
       },
       "execution_count": 33,
       "metadata": {}
      },
      "follow": [],
      "msg_id": "d6362f60-ed282376c1811f17925a2d5d",
      "outputs": [],
      "received": "2019-05-16T15:16:25.806687",
      "started": "2019-05-16T15:16:25.789605",
      "status": "ok",
      "stderr": "",
      "stdout": "",
      "submitted": "2019-05-16T15:16:25.784228"
     },
     "output_type": "display_data"
    },
    {
     "data": {
      "text/plain": [
       "\u001b[0;31mOut[3:33]: \u001b[0m\n",
       "Data([[15., 14.],\n",
       "      [11., 10.]], dtype=float32)"
      ]
     },
     "metadata": {
      "after": [],
      "completed": "2019-05-16T15:16:25.792376",
      "data": {},
      "engine_id": 3,
      "engine_uuid": "67fb8e1c-b48489d69ad1e12961ede22e",
      "error": null,
      "execute_input": "u.data[::-1, ::-1]\n",
      "execute_result": {
       "data": {
        "text/plain": "Data([[15., 14.],\n      [11., 10.]], dtype=float32)"
       },
       "execution_count": 33,
       "metadata": {}
      },
      "follow": [],
      "msg_id": "a2741149-a22fb34dc5802e13deaf7638",
      "outputs": [],
      "received": "2019-05-16T15:16:25.794773",
      "started": "2019-05-16T15:16:25.788720",
      "status": "ok",
      "stderr": "",
      "stdout": "",
      "submitted": "2019-05-16T15:16:25.784812"
     },
     "output_type": "display_data"
    }
   ],
   "source": [
    "%%px\n",
    "u.data[::-1, ::-1]"
   ]
  },
  {
   "cell_type": "code",
   "execution_count": 17,
   "metadata": {},
   "outputs": [
    {
     "data": {
      "text/plain": [
       "\u001b[0;31mOut[0:34]: \u001b[0mData([], shape=(0, 0), dtype=float32)"
      ]
     },
     "metadata": {
      "after": [],
      "completed": "2019-05-16T15:16:46.406927",
      "data": {},
      "engine_id": 0,
      "engine_uuid": "ccd60335-e30b83bc86e77d2548036c55",
      "error": null,
      "execute_input": "u.data[3:1:-1, 3:1:-1]\n",
      "execute_result": {
       "data": {
        "text/plain": "Data([], shape=(0, 0), dtype=float32)"
       },
       "execution_count": 34,
       "metadata": {}
      },
      "follow": [],
      "msg_id": "6d58dfbc-3af27db5d41e0c03684cb30e",
      "outputs": [],
      "received": "2019-05-16T15:16:46.409830",
      "started": "2019-05-16T15:16:46.401703",
      "status": "ok",
      "stderr": "",
      "stdout": "",
      "submitted": "2019-05-16T15:16:46.397618"
     },
     "output_type": "display_data"
    },
    {
     "data": {
      "text/plain": [
       "\u001b[0;31mOut[1:34]: \u001b[0mData([], shape=(0, 2), dtype=float32)"
      ]
     },
     "metadata": {
      "after": [],
      "completed": "2019-05-16T15:16:46.407490",
      "data": {},
      "engine_id": 1,
      "engine_uuid": "1adeee6e-5fff85121d29b704bdd80969",
      "error": null,
      "execute_input": "u.data[3:1:-1, 3:1:-1]\n",
      "execute_result": {
       "data": {
        "text/plain": "Data([], shape=(0, 2), dtype=float32)"
       },
       "execution_count": 34,
       "metadata": {}
      },
      "follow": [],
      "msg_id": "0422f0e0-b02c02c9651d51921ae21198",
      "outputs": [],
      "received": "2019-05-16T15:16:46.410784",
      "started": "2019-05-16T15:16:46.402643",
      "status": "ok",
      "stderr": "",
      "stdout": "",
      "submitted": "2019-05-16T15:16:46.398025"
     },
     "output_type": "display_data"
    },
    {
     "data": {
      "text/plain": [
       "\u001b[0;31mOut[2:34]: \u001b[0mData([], shape=(2, 0), dtype=float32)"
      ]
     },
     "metadata": {
      "after": [],
      "completed": "2019-05-16T15:16:46.409097",
      "data": {},
      "engine_id": 2,
      "engine_uuid": "1e0f4e07-72a816bc8fd35cb55fe20a57",
      "error": null,
      "execute_input": "u.data[3:1:-1, 3:1:-1]\n",
      "execute_result": {
       "data": {
        "text/plain": "Data([], shape=(2, 0), dtype=float32)"
       },
       "execution_count": 34,
       "metadata": {}
      },
      "follow": [],
      "msg_id": "ee66419c-705901a6d575bf95caf8f003",
      "outputs": [],
      "received": "2019-05-16T15:16:46.411691",
      "started": "2019-05-16T15:16:46.402460",
      "status": "ok",
      "stderr": "",
      "stdout": "",
      "submitted": "2019-05-16T15:16:46.398174"
     },
     "output_type": "display_data"
    },
    {
     "data": {
      "text/plain": [
       "\u001b[0;31mOut[3:34]: \u001b[0m\n",
       "Data([[15., 14.],\n",
       "      [11., 10.]], dtype=float32)"
      ]
     },
     "metadata": {
      "after": [],
      "completed": "2019-05-16T15:16:46.405959",
      "data": {},
      "engine_id": 3,
      "engine_uuid": "67fb8e1c-b48489d69ad1e12961ede22e",
      "error": null,
      "execute_input": "u.data[3:1:-1, 3:1:-1]\n",
      "execute_result": {
       "data": {
        "text/plain": "Data([[15., 14.],\n      [11., 10.]], dtype=float32)"
       },
       "execution_count": 34,
       "metadata": {}
      },
      "follow": [],
      "msg_id": "2e23b88b-b299e23486cd364be18c033c",
      "outputs": [],
      "received": "2019-05-16T15:16:46.408854",
      "started": "2019-05-16T15:16:46.401857",
      "status": "ok",
      "stderr": "",
      "stdout": "",
      "submitted": "2019-05-16T15:16:46.398389"
     },
     "output_type": "display_data"
    }
   ],
   "source": [
    "%%px\n",
    "u.data[3:1:-1, 3:1:-1]"
   ]
  },
  {
   "cell_type": "code",
   "execution_count": null,
   "metadata": {},
   "outputs": [],
   "source": []
  }
 ],
 "metadata": {
  "kernelspec": {
   "display_name": "Python (devito)",
   "language": "python",
   "name": "devito"
  },
  "language_info": {
   "codemirror_mode": {
    "name": "ipython",
    "version": 3
   },
   "file_extension": ".py",
   "mimetype": "text/x-python",
   "name": "python",
   "nbconvert_exporter": "python",
   "pygments_lexer": "ipython3",
   "version": "3.6.8"
  }
 },
 "nbformat": 4,
 "nbformat_minor": 2
}
