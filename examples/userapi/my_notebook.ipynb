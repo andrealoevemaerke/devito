{
 "cells": [
  {
   "cell_type": "markdown",
   "metadata": {},
   "source": [
    "## Launch and connect to an ipyparallel cluster\n",
    "\n",
    "```\n",
    "ipcluster start --profile=mpi -n 4\n",
    "```"
   ]
  },
  {
   "cell_type": "code",
   "execution_count": 15,
   "metadata": {},
   "outputs": [],
   "source": [
    "import ipyparallel as ipp\n",
    "c = ipp.Client(profile='mpi')"
   ]
  },
  {
   "cell_type": "code",
   "execution_count": 16,
   "metadata": {},
   "outputs": [
    {
     "name": "stdout",
     "output_type": "stream",
     "text": [
      "[stdout:0] Hi, I'm rank 0.\n",
      "[stdout:1] Hi, I'm rank 1.\n",
      "[stdout:2] Hi, I'm rank 2.\n",
      "[stdout:3] Hi, I'm rank 3.\n"
     ]
    }
   ],
   "source": [
    "%%px\n",
    "from mpi4py import MPI\n",
    "print(f\"Hi, I'm rank %d.\" % MPI.COMM_WORLD.rank)"
   ]
  },
  {
   "cell_type": "markdown",
   "metadata": {},
   "source": [
    "To enable MPI, users have two options. Either export the environment variable `DEVITO_MPI=1` or, programmatically:"
   ]
  },
  {
   "cell_type": "code",
   "execution_count": 17,
   "metadata": {},
   "outputs": [],
   "source": [
    "%%px\n",
    "from devito import configuration\n",
    "configuration['mpi'] = True"
   ]
  },
  {
   "cell_type": "code",
   "execution_count": 18,
   "metadata": {},
   "outputs": [],
   "source": [
    "%%px\n",
    "from devito import Grid, TimeFunction, Eq, Operator \n",
    "grid = Grid(shape=(4, 4))\n",
    "u = Function(name=\"u\", grid=grid, space_order=2, time_order=0)"
   ]
  },
  {
   "cell_type": "code",
   "execution_count": 19,
   "metadata": {
    "scrolled": false
   },
   "outputs": [
    {
     "data": {
      "text/plain": [
       "\u001b[0;31mOut[0:87]: \u001b[0m\n",
       "Data([[0., 0.],\n",
       "      [0., 0.]], dtype=float32)"
      ]
     },
     "metadata": {
      "after": [],
      "completed": "2019-05-15T10:31:43.689588",
      "data": {},
      "engine_id": 0,
      "engine_uuid": "9fe67ad3-a5c212be85a8d4574a11d195",
      "error": null,
      "execute_input": "u.data\n",
      "execute_result": {
       "data": {
        "text/plain": "Data([[0., 0.],\n      [0., 0.]], dtype=float32)"
       },
       "execution_count": 87,
       "metadata": {}
      },
      "follow": [],
      "msg_id": "e914e1e0-b593b854ab367e8173777a4d",
      "outputs": [],
      "received": "2019-05-15T10:31:43.697842",
      "started": "2019-05-15T10:31:43.665095",
      "status": "ok",
      "stderr": "",
      "stdout": "",
      "submitted": "2019-05-15T10:31:43.660481"
     },
     "output_type": "display_data"
    },
    {
     "data": {
      "text/plain": [
       "\u001b[0;31mOut[1:85]: \u001b[0m\n",
       "Data([[0., 0.],\n",
       "      [0., 0.]], dtype=float32)"
      ]
     },
     "metadata": {
      "after": [],
      "completed": "2019-05-15T10:31:43.688134",
      "data": {},
      "engine_id": 1,
      "engine_uuid": "49905370-92abc18572b50d1336e92f3b",
      "error": null,
      "execute_input": "u.data\n",
      "execute_result": {
       "data": {
        "text/plain": "Data([[0., 0.],\n      [0., 0.]], dtype=float32)"
       },
       "execution_count": 85,
       "metadata": {}
      },
      "follow": [],
      "msg_id": "546b7f6c-fc8aea0a204afc8f0fed3e91",
      "outputs": [],
      "received": "2019-05-15T10:31:43.698820",
      "started": "2019-05-15T10:31:43.666970",
      "status": "ok",
      "stderr": "",
      "stdout": "",
      "submitted": "2019-05-15T10:31:43.661768"
     },
     "output_type": "display_data"
    },
    {
     "data": {
      "text/plain": [
       "\u001b[0;31mOut[2:85]: \u001b[0m\n",
       "Data([[0., 0.],\n",
       "      [0., 0.]], dtype=float32)"
      ]
     },
     "metadata": {
      "after": [],
      "completed": "2019-05-15T10:31:43.691302",
      "data": {},
      "engine_id": 2,
      "engine_uuid": "afc812e0-8e830b39f3b854c931b7d023",
      "error": null,
      "execute_input": "u.data\n",
      "execute_result": {
       "data": {
        "text/plain": "Data([[0., 0.],\n      [0., 0.]], dtype=float32)"
       },
       "execution_count": 85,
       "metadata": {}
      },
      "follow": [],
      "msg_id": "7f20ca08-a06c811112ad287c4d5c157c",
      "outputs": [],
      "received": "2019-05-15T10:31:43.700726",
      "started": "2019-05-15T10:31:43.667967",
      "status": "ok",
      "stderr": "",
      "stdout": "",
      "submitted": "2019-05-15T10:31:43.662124"
     },
     "output_type": "display_data"
    },
    {
     "data": {
      "text/plain": [
       "\u001b[0;31mOut[3:85]: \u001b[0m\n",
       "Data([[0., 0.],\n",
       "      [0., 0.]], dtype=float32)"
      ]
     },
     "metadata": {
      "after": [],
      "completed": "2019-05-15T10:31:43.691280",
      "data": {},
      "engine_id": 3,
      "engine_uuid": "4b2d635e-f355eff378a1665d25cdf6cc",
      "error": null,
      "execute_input": "u.data\n",
      "execute_result": {
       "data": {
        "text/plain": "Data([[0., 0.],\n      [0., 0.]], dtype=float32)"
       },
       "execution_count": 85,
       "metadata": {}
      },
      "follow": [],
      "msg_id": "3bef19ea-edef6cc182d6586cb1fe6e37",
      "outputs": [],
      "received": "2019-05-15T10:31:43.699784",
      "started": "2019-05-15T10:31:43.667571",
      "status": "ok",
      "stderr": "",
      "stdout": "",
      "submitted": "2019-05-15T10:31:43.662509"
     },
     "output_type": "display_data"
    }
   ],
   "source": [
    "%%px\n",
    "u.data"
   ]
  },
  {
   "cell_type": "code",
   "execution_count": 20,
   "metadata": {},
   "outputs": [],
   "source": [
    "import numpy as np"
   ]
  },
  {
   "cell_type": "code",
   "execution_count": 26,
   "metadata": {},
   "outputs": [],
   "source": [
    "shape = (4, 4)\n",
    "a = np.arange(16).reshape(shape)\n",
    "b = a[::-1, ::-1]"
   ]
  },
  {
   "cell_type": "code",
   "execution_count": 27,
   "metadata": {},
   "outputs": [
    {
     "data": {
      "text/plain": [
       "array([[ 0,  1,  2,  3],\n",
       "       [ 4,  5,  6,  7],\n",
       "       [ 8,  9, 10, 11],\n",
       "       [12, 13, 14, 15]])"
      ]
     },
     "execution_count": 27,
     "metadata": {},
     "output_type": "execute_result"
    }
   ],
   "source": [
    "a"
   ]
  },
  {
   "cell_type": "code",
   "execution_count": 28,
   "metadata": {},
   "outputs": [
    {
     "data": {
      "text/plain": [
       "array([[15, 14, 13, 12],\n",
       "       [11, 10,  9,  8],\n",
       "       [ 7,  6,  5,  4],\n",
       "       [ 3,  2,  1,  0]])"
      ]
     },
     "execution_count": 28,
     "metadata": {},
     "output_type": "execute_result"
    }
   ],
   "source": [
    "b"
   ]
  },
  {
   "cell_type": "code",
   "execution_count": 29,
   "metadata": {},
   "outputs": [],
   "source": [
    "%%px\n",
    "u.data[:] = a"
   ]
  },
  {
   "cell_type": "code",
   "execution_count": 30,
   "metadata": {},
   "outputs": [
    {
     "data": {
      "text/plain": [
       "\u001b[0;31mOut[0:91]: \u001b[0m\n",
       "Data([[0., 1.],\n",
       "      [4., 5.]], dtype=float32)"
      ]
     },
     "metadata": {
      "after": [],
      "completed": "2019-05-15T10:31:59.309581",
      "data": {},
      "engine_id": 0,
      "engine_uuid": "9fe67ad3-a5c212be85a8d4574a11d195",
      "error": null,
      "execute_input": "u.data\n",
      "execute_result": {
       "data": {
        "text/plain": "Data([[0., 1.],\n      [4., 5.]], dtype=float32)"
       },
       "execution_count": 91,
       "metadata": {}
      },
      "follow": [],
      "msg_id": "f53cbcc8-61d9ebce4bb4aa8322784fb7",
      "outputs": [],
      "received": "2019-05-15T10:31:59.317880",
      "started": "2019-05-15T10:31:59.298304",
      "status": "ok",
      "stderr": "",
      "stdout": "",
      "submitted": "2019-05-15T10:31:59.295252"
     },
     "output_type": "display_data"
    },
    {
     "data": {
      "text/plain": [
       "\u001b[0;31mOut[1:89]: \u001b[0m\n",
       "Data([[2., 3.],\n",
       "      [6., 7.]], dtype=float32)"
      ]
     },
     "metadata": {
      "after": [],
      "completed": "2019-05-15T10:31:59.318976",
      "data": {},
      "engine_id": 1,
      "engine_uuid": "49905370-92abc18572b50d1336e92f3b",
      "error": null,
      "execute_input": "u.data\n",
      "execute_result": {
       "data": {
        "text/plain": "Data([[2., 3.],\n      [6., 7.]], dtype=float32)"
       },
       "execution_count": 89,
       "metadata": {}
      },
      "follow": [],
      "msg_id": "7cb3c1fa-84b9acc1782ec340e34a4a3d",
      "outputs": [],
      "received": "2019-05-15T10:31:59.327256",
      "started": "2019-05-15T10:31:59.301699",
      "status": "ok",
      "stderr": "",
      "stdout": "",
      "submitted": "2019-05-15T10:31:59.296913"
     },
     "output_type": "display_data"
    },
    {
     "data": {
      "text/plain": [
       "\u001b[0;31mOut[2:89]: \u001b[0m\n",
       "Data([[ 8.,  9.],\n",
       "      [12., 13.]], dtype=float32)"
      ]
     },
     "metadata": {
      "after": [],
      "completed": "2019-05-15T10:31:59.317504",
      "data": {},
      "engine_id": 2,
      "engine_uuid": "afc812e0-8e830b39f3b854c931b7d023",
      "error": null,
      "execute_input": "u.data\n",
      "execute_result": {
       "data": {
        "text/plain": "Data([[ 8.,  9.],\n      [12., 13.]], dtype=float32)"
       },
       "execution_count": 89,
       "metadata": {}
      },
      "follow": [],
      "msg_id": "59fb71a6-6cd2134e677d5b211338f02d",
      "outputs": [],
      "received": "2019-05-15T10:31:59.325229",
      "started": "2019-05-15T10:31:59.301865",
      "status": "ok",
      "stderr": "",
      "stdout": "",
      "submitted": "2019-05-15T10:31:59.297958"
     },
     "output_type": "display_data"
    },
    {
     "data": {
      "text/plain": [
       "\u001b[0;31mOut[3:89]: \u001b[0m\n",
       "Data([[10., 11.],\n",
       "      [14., 15.]], dtype=float32)"
      ]
     },
     "metadata": {
      "after": [],
      "completed": "2019-05-15T10:31:59.314557",
      "data": {},
      "engine_id": 3,
      "engine_uuid": "4b2d635e-f355eff378a1665d25cdf6cc",
      "error": null,
      "execute_input": "u.data\n",
      "execute_result": {
       "data": {
        "text/plain": "Data([[10., 11.],\n      [14., 15.]], dtype=float32)"
       },
       "execution_count": 89,
       "metadata": {}
      },
      "follow": [],
      "msg_id": "b0df4cb2-8929b8f504416a22553ba71b",
      "outputs": [],
      "received": "2019-05-15T10:31:59.323312",
      "started": "2019-05-15T10:31:59.301826",
      "status": "ok",
      "stderr": "",
      "stdout": "",
      "submitted": "2019-05-15T10:31:59.298352"
     },
     "output_type": "display_data"
    }
   ],
   "source": [
    "%%px\n",
    "u.data"
   ]
  },
  {
   "cell_type": "code",
   "execution_count": 31,
   "metadata": {},
   "outputs": [
    {
     "data": {
      "text/plain": [
       "\u001b[0;31mOut[3:90]: \u001b[0m10.0"
      ]
     },
     "metadata": {
      "after": [],
      "completed": "2019-05-15T10:32:00.365877",
      "data": {},
      "engine_id": 3,
      "engine_uuid": "4b2d635e-f355eff378a1665d25cdf6cc",
      "error": null,
      "execute_input": "u.data[2,2]\n",
      "execute_result": {
       "data": {
        "text/plain": "10.0"
       },
       "execution_count": 90,
       "metadata": {}
      },
      "follow": [],
      "msg_id": "fcf6819c-b9094fc0368306d7524124bc",
      "outputs": [],
      "received": "2019-05-15T10:32:00.370370",
      "started": "2019-05-15T10:32:00.354756",
      "status": "ok",
      "stderr": "",
      "stdout": "",
      "submitted": "2019-05-15T10:32:00.347580"
     },
     "output_type": "display_data"
    }
   ],
   "source": [
    "%%px\n",
    "u.data[2,2]"
   ]
  },
  {
   "cell_type": "code",
   "execution_count": 32,
   "metadata": {},
   "outputs": [
    {
     "data": {
      "text/plain": [
       "\u001b[0;31mOut[0:93]: \u001b[0mData([[5.]], dtype=float32)"
      ]
     },
     "metadata": {
      "after": [],
      "completed": "2019-05-15T10:32:04.345700",
      "data": {},
      "engine_id": 0,
      "engine_uuid": "9fe67ad3-a5c212be85a8d4574a11d195",
      "error": null,
      "execute_input": "u.data[3:1:-1, 3:1:-1]\n",
      "execute_result": {
       "data": {
        "text/plain": "Data([[5.]], dtype=float32)"
       },
       "execution_count": 93,
       "metadata": {}
      },
      "follow": [],
      "msg_id": "bbd9aabc-d5c76fece749d0bb01f9664b",
      "outputs": [],
      "received": "2019-05-15T10:32:04.353356",
      "started": "2019-05-15T10:32:04.330305",
      "status": "ok",
      "stderr": "",
      "stdout": "",
      "submitted": "2019-05-15T10:32:04.321753"
     },
     "output_type": "display_data"
    },
    {
     "data": {
      "text/plain": [
       "\u001b[0;31mOut[1:91]: \u001b[0mData([[7.]], dtype=float32)"
      ]
     },
     "metadata": {
      "after": [],
      "completed": "2019-05-15T10:32:04.349230",
      "data": {},
      "engine_id": 1,
      "engine_uuid": "49905370-92abc18572b50d1336e92f3b",
      "error": null,
      "execute_input": "u.data[3:1:-1, 3:1:-1]\n",
      "execute_result": {
       "data": {
        "text/plain": "Data([[7.]], dtype=float32)"
       },
       "execution_count": 91,
       "metadata": {}
      },
      "follow": [],
      "msg_id": "ff1b9e2a-77628611701cd4513330a8f3",
      "outputs": [],
      "received": "2019-05-15T10:32:04.355362",
      "started": "2019-05-15T10:32:04.329925",
      "status": "ok",
      "stderr": "",
      "stdout": "",
      "submitted": "2019-05-15T10:32:04.322779"
     },
     "output_type": "display_data"
    },
    {
     "data": {
      "text/plain": [
       "\u001b[0;31mOut[2:91]: \u001b[0mData([[13.]], dtype=float32)"
      ]
     },
     "metadata": {
      "after": [],
      "completed": "2019-05-15T10:32:04.350625",
      "data": {},
      "engine_id": 2,
      "engine_uuid": "afc812e0-8e830b39f3b854c931b7d023",
      "error": null,
      "execute_input": "u.data[3:1:-1, 3:1:-1]\n",
      "execute_result": {
       "data": {
        "text/plain": "Data([[13.]], dtype=float32)"
       },
       "execution_count": 91,
       "metadata": {}
      },
      "follow": [],
      "msg_id": "a75fb772-774be9f2ac27d1f6d10bbcd7",
      "outputs": [],
      "received": "2019-05-15T10:32:04.356759",
      "started": "2019-05-15T10:32:04.330904",
      "status": "ok",
      "stderr": "",
      "stdout": "",
      "submitted": "2019-05-15T10:32:04.325338"
     },
     "output_type": "display_data"
    },
    {
     "data": {
      "text/plain": [
       "\u001b[0;31mOut[3:91]: \u001b[0mData([[15.]], dtype=float32)"
      ]
     },
     "metadata": {
      "after": [],
      "completed": "2019-05-15T10:32:04.346786",
      "data": {},
      "engine_id": 3,
      "engine_uuid": "4b2d635e-f355eff378a1665d25cdf6cc",
      "error": null,
      "execute_input": "u.data[3:1:-1, 3:1:-1]\n",
      "execute_result": {
       "data": {
        "text/plain": "Data([[15.]], dtype=float32)"
       },
       "execution_count": 91,
       "metadata": {}
      },
      "follow": [],
      "msg_id": "1e179393-61a8f142ffcc2a40212e4836",
      "outputs": [],
      "received": "2019-05-15T10:32:04.351325",
      "started": "2019-05-15T10:32:04.332930",
      "status": "ok",
      "stderr": "",
      "stdout": "",
      "submitted": "2019-05-15T10:32:04.325499"
     },
     "output_type": "display_data"
    }
   ],
   "source": [
    "%%px\n",
    "u.data[3:1:-1, 3:1:-1]"
   ]
  },
  {
   "cell_type": "code",
   "execution_count": null,
   "metadata": {},
   "outputs": [],
   "source": []
  }
 ],
 "metadata": {
  "kernelspec": {
   "display_name": "Python (devito)",
   "language": "python",
   "name": "devito"
  },
  "language_info": {
   "codemirror_mode": {
    "name": "ipython",
    "version": 3
   },
   "file_extension": ".py",
   "mimetype": "text/x-python",
   "name": "python",
   "nbconvert_exporter": "python",
   "pygments_lexer": "ipython3",
   "version": "3.6.8"
  }
 },
 "nbformat": 4,
 "nbformat_minor": 2
}
