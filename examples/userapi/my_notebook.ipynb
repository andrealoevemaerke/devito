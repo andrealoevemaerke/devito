{
 "cells": [
  {
   "cell_type": "markdown",
   "metadata": {},
   "source": [
    "## Launch and connect to an ipyparallel cluster\n",
    "\n",
    "```\n",
    "ipcluster start --profile=mpi -n 4\n",
    "```"
   ]
  },
  {
   "cell_type": "code",
   "execution_count": 31,
   "metadata": {},
   "outputs": [],
   "source": [
    "import ipyparallel as ipp\n",
    "c = ipp.Client(profile='mpi')"
   ]
  },
  {
   "cell_type": "code",
   "execution_count": 32,
   "metadata": {},
   "outputs": [
    {
     "name": "stdout",
     "output_type": "stream",
     "text": [
      "[stdout:0] Hi, I'm rank 0.\n",
      "[stdout:1] Hi, I'm rank 1.\n",
      "[stdout:2] Hi, I'm rank 2.\n",
      "[stdout:3] Hi, I'm rank 3.\n"
     ]
    }
   ],
   "source": [
    "%%px\n",
    "from mpi4py import MPI\n",
    "print(f\"Hi, I'm rank %d.\" % MPI.COMM_WORLD.rank)"
   ]
  },
  {
   "cell_type": "markdown",
   "metadata": {},
   "source": [
    "To enable MPI, users have two options. Either export the environment variable `DEVITO_MPI=1` or, programmatically:"
   ]
  },
  {
   "cell_type": "code",
   "execution_count": 33,
   "metadata": {},
   "outputs": [],
   "source": [
    "%%px\n",
    "from devito import configuration\n",
    "configuration['mpi'] = True"
   ]
  },
  {
   "cell_type": "code",
   "execution_count": 34,
   "metadata": {},
   "outputs": [],
   "source": [
    "%%px\n",
    "from devito import Grid, Function, Eq, Operator \n",
    "grid = Grid(shape=(4, 4))\n",
    "u = Function(name=\"u\", grid=grid, space_order=2, time_order=0)"
   ]
  },
  {
   "cell_type": "code",
   "execution_count": 35,
   "metadata": {
    "scrolled": false
   },
   "outputs": [
    {
     "data": {
      "text/plain": [
       "\u001b[0;31mOut[0:27]: \u001b[0m\n",
       "Data([[0., 0.],\n",
       "      [0., 0.]], dtype=float32)"
      ]
     },
     "metadata": {
      "after": [],
      "completed": "2019-05-15T15:35:08.925757",
      "data": {},
      "engine_id": 0,
      "engine_uuid": "97ba875c-4c1742fcbb755f4385d4e387",
      "error": null,
      "execute_input": "u.data\n",
      "execute_result": {
       "data": {
        "text/plain": "Data([[0., 0.],\n      [0., 0.]], dtype=float32)"
       },
       "execution_count": 27,
       "metadata": {}
      },
      "follow": [],
      "msg_id": "07dc4706-52da4b10ab451908ccb094fa",
      "outputs": [],
      "received": "2019-05-15T15:35:08.928290",
      "started": "2019-05-15T15:35:08.912692",
      "status": "ok",
      "stderr": "",
      "stdout": "",
      "submitted": "2019-05-15T15:35:08.906700"
     },
     "output_type": "display_data"
    },
    {
     "data": {
      "text/plain": [
       "\u001b[0;31mOut[1:27]: \u001b[0m\n",
       "Data([[0., 0.],\n",
       "      [0., 0.]], dtype=float32)"
      ]
     },
     "metadata": {
      "after": [],
      "completed": "2019-05-15T15:35:08.927421",
      "data": {},
      "engine_id": 1,
      "engine_uuid": "11f88942-780c2d0848c32a4b473358c5",
      "error": null,
      "execute_input": "u.data\n",
      "execute_result": {
       "data": {
        "text/plain": "Data([[0., 0.],\n      [0., 0.]], dtype=float32)"
       },
       "execution_count": 27,
       "metadata": {}
      },
      "follow": [],
      "msg_id": "6b9d3d49-60e0653961740c1ab056ddb8",
      "outputs": [],
      "received": "2019-05-15T15:35:08.934590",
      "started": "2019-05-15T15:35:08.911825",
      "status": "ok",
      "stderr": "",
      "stdout": "",
      "submitted": "2019-05-15T15:35:08.908032"
     },
     "output_type": "display_data"
    },
    {
     "data": {
      "text/plain": [
       "\u001b[0;31mOut[2:27]: \u001b[0m\n",
       "Data([[0., 0.],\n",
       "      [0., 0.]], dtype=float32)"
      ]
     },
     "metadata": {
      "after": [],
      "completed": "2019-05-15T15:35:08.927196",
      "data": {},
      "engine_id": 2,
      "engine_uuid": "60717fd6-2f6d6002d9c0468e132665b4",
      "error": null,
      "execute_input": "u.data\n",
      "execute_result": {
       "data": {
        "text/plain": "Data([[0., 0.],\n      [0., 0.]], dtype=float32)"
       },
       "execution_count": 27,
       "metadata": {}
      },
      "follow": [],
      "msg_id": "c4fb4690-85d54e8b1cd932d15c97ff9c",
      "outputs": [],
      "received": "2019-05-15T15:35:08.932850",
      "started": "2019-05-15T15:35:08.911937",
      "status": "ok",
      "stderr": "",
      "stdout": "",
      "submitted": "2019-05-15T15:35:08.908489"
     },
     "output_type": "display_data"
    },
    {
     "data": {
      "text/plain": [
       "\u001b[0;31mOut[3:27]: \u001b[0m\n",
       "Data([[0., 0.],\n",
       "      [0., 0.]], dtype=float32)"
      ]
     },
     "metadata": {
      "after": [],
      "completed": "2019-05-15T15:35:08.925896",
      "data": {},
      "engine_id": 3,
      "engine_uuid": "3102fa56-43374c394354e43ef91e0be8",
      "error": null,
      "execute_input": "u.data\n",
      "execute_result": {
       "data": {
        "text/plain": "Data([[0., 0.],\n      [0., 0.]], dtype=float32)"
       },
       "execution_count": 27,
       "metadata": {}
      },
      "follow": [],
      "msg_id": "c2e80656-1802b4da71c236a0867bbad2",
      "outputs": [],
      "received": "2019-05-15T15:35:08.929790",
      "started": "2019-05-15T15:35:08.912054",
      "status": "ok",
      "stderr": "",
      "stdout": "",
      "submitted": "2019-05-15T15:35:08.909150"
     },
     "output_type": "display_data"
    }
   ],
   "source": [
    "%%px\n",
    "u.data"
   ]
  },
  {
   "cell_type": "code",
   "execution_count": 36,
   "metadata": {},
   "outputs": [],
   "source": [
    "%%px\n",
    "import numpy as np"
   ]
  },
  {
   "cell_type": "code",
   "execution_count": 37,
   "metadata": {},
   "outputs": [],
   "source": [
    "%%px\n",
    "shape = (4, 4)\n",
    "a = np.arange(16).reshape(shape)\n",
    "b = a[::-1, ::-1]"
   ]
  },
  {
   "cell_type": "code",
   "execution_count": 38,
   "metadata": {},
   "outputs": [
    {
     "data": {
      "text/plain": [
       "array([[ 0,  1,  2,  3],\n",
       "       [ 4,  5,  6,  7],\n",
       "       [ 8,  9, 10, 11],\n",
       "       [12, 13, 14, 15]])"
      ]
     },
     "execution_count": 38,
     "metadata": {},
     "output_type": "execute_result"
    }
   ],
   "source": [
    "a"
   ]
  },
  {
   "cell_type": "code",
   "execution_count": 39,
   "metadata": {},
   "outputs": [
    {
     "data": {
      "text/plain": [
       "array([[15, 14, 13, 12],\n",
       "       [11, 10,  9,  8],\n",
       "       [ 7,  6,  5,  4],\n",
       "       [ 3,  2,  1,  0]])"
      ]
     },
     "execution_count": 39,
     "metadata": {},
     "output_type": "execute_result"
    }
   ],
   "source": [
    "b"
   ]
  },
  {
   "cell_type": "code",
   "execution_count": 40,
   "metadata": {},
   "outputs": [],
   "source": [
    "%%px\n",
    "u.data[:] = a"
   ]
  },
  {
   "cell_type": "code",
   "execution_count": 41,
   "metadata": {},
   "outputs": [
    {
     "data": {
      "text/plain": [
       "\u001b[0;31mOut[0:31]: \u001b[0m\n",
       "Data([[0., 1.],\n",
       "      [4., 5.]], dtype=float32)"
      ]
     },
     "metadata": {
      "after": [],
      "completed": "2019-05-15T15:35:17.406716",
      "data": {},
      "engine_id": 0,
      "engine_uuid": "97ba875c-4c1742fcbb755f4385d4e387",
      "error": null,
      "execute_input": "u.data\n",
      "execute_result": {
       "data": {
        "text/plain": "Data([[0., 1.],\n      [4., 5.]], dtype=float32)"
       },
       "execution_count": 31,
       "metadata": {}
      },
      "follow": [],
      "msg_id": "56600c29-b9e79755c65c21d00344fdd8",
      "outputs": [],
      "received": "2019-05-15T15:35:17.410094",
      "started": "2019-05-15T15:35:17.402492",
      "status": "ok",
      "stderr": "",
      "stdout": "",
      "submitted": "2019-05-15T15:35:17.398005"
     },
     "output_type": "display_data"
    },
    {
     "data": {
      "text/plain": [
       "\u001b[0;31mOut[1:31]: \u001b[0m\n",
       "Data([[2., 3.],\n",
       "      [6., 7.]], dtype=float32)"
      ]
     },
     "metadata": {
      "after": [],
      "completed": "2019-05-15T15:35:17.406663",
      "data": {},
      "engine_id": 1,
      "engine_uuid": "11f88942-780c2d0848c32a4b473358c5",
      "error": null,
      "execute_input": "u.data\n",
      "execute_result": {
       "data": {
        "text/plain": "Data([[2., 3.],\n      [6., 7.]], dtype=float32)"
       },
       "execution_count": 31,
       "metadata": {}
      },
      "follow": [],
      "msg_id": "b429572e-9f26c18d64c029d039c40e05",
      "outputs": [],
      "received": "2019-05-15T15:35:17.415319",
      "started": "2019-05-15T15:35:17.403090",
      "status": "ok",
      "stderr": "",
      "stdout": "",
      "submitted": "2019-05-15T15:35:17.399034"
     },
     "output_type": "display_data"
    },
    {
     "data": {
      "text/plain": [
       "\u001b[0;31mOut[2:31]: \u001b[0m\n",
       "Data([[ 8.,  9.],\n",
       "      [12., 13.]], dtype=float32)"
      ]
     },
     "metadata": {
      "after": [],
      "completed": "2019-05-15T15:35:17.406890",
      "data": {},
      "engine_id": 2,
      "engine_uuid": "60717fd6-2f6d6002d9c0468e132665b4",
      "error": null,
      "execute_input": "u.data\n",
      "execute_result": {
       "data": {
        "text/plain": "Data([[ 8.,  9.],\n      [12., 13.]], dtype=float32)"
       },
       "execution_count": 31,
       "metadata": {}
      },
      "follow": [],
      "msg_id": "108102db-5a0ac3f4bf83c648dae55d6c",
      "outputs": [],
      "received": "2019-05-15T15:35:17.418617",
      "started": "2019-05-15T15:35:17.402968",
      "status": "ok",
      "stderr": "",
      "stdout": "",
      "submitted": "2019-05-15T15:35:17.399397"
     },
     "output_type": "display_data"
    },
    {
     "data": {
      "text/plain": [
       "\u001b[0;31mOut[3:31]: \u001b[0m\n",
       "Data([[10., 11.],\n",
       "      [14., 15.]], dtype=float32)"
      ]
     },
     "metadata": {
      "after": [],
      "completed": "2019-05-15T15:35:17.406325",
      "data": {},
      "engine_id": 3,
      "engine_uuid": "3102fa56-43374c394354e43ef91e0be8",
      "error": null,
      "execute_input": "u.data\n",
      "execute_result": {
       "data": {
        "text/plain": "Data([[10., 11.],\n      [14., 15.]], dtype=float32)"
       },
       "execution_count": 31,
       "metadata": {}
      },
      "follow": [],
      "msg_id": "4c179d4f-2b190e9a34fd1aec1ac135c9",
      "outputs": [],
      "received": "2019-05-15T15:35:17.413012",
      "started": "2019-05-15T15:35:17.402900",
      "status": "ok",
      "stderr": "",
      "stdout": "",
      "submitted": "2019-05-15T15:35:17.399826"
     },
     "output_type": "display_data"
    }
   ],
   "source": [
    "%%px\n",
    "u.data"
   ]
  },
  {
   "cell_type": "code",
   "execution_count": 42,
   "metadata": {},
   "outputs": [
    {
     "data": {
      "text/plain": [
       "\u001b[0;31mOut[3:32]: \u001b[0m15.0"
      ]
     },
     "metadata": {
      "after": [],
      "completed": "2019-05-15T15:35:20.890971",
      "data": {},
      "engine_id": 3,
      "engine_uuid": "3102fa56-43374c394354e43ef91e0be8",
      "error": null,
      "execute_input": "u.data[3, 3]\n",
      "execute_result": {
       "data": {
        "text/plain": "15.0"
       },
       "execution_count": 32,
       "metadata": {}
      },
      "follow": [],
      "msg_id": "d779268c-83d9db3478ad9e7f3d7ff1c6",
      "outputs": [],
      "received": "2019-05-15T15:35:20.894655",
      "started": "2019-05-15T15:35:20.887871",
      "status": "ok",
      "stderr": "",
      "stdout": "",
      "submitted": "2019-05-15T15:35:20.884554"
     },
     "output_type": "display_data"
    }
   ],
   "source": [
    "%%px\n",
    "u.data[3, 3]"
   ]
  },
  {
   "cell_type": "code",
   "execution_count": 43,
   "metadata": {},
   "outputs": [
    {
     "data": {
      "text/plain": [
       "\u001b[0;31mOut[0:33]: \u001b[0mData([], shape=(0, 0), dtype=float32)"
      ]
     },
     "metadata": {
      "after": [],
      "completed": "2019-05-15T15:35:22.429072",
      "data": {},
      "engine_id": 0,
      "engine_uuid": "97ba875c-4c1742fcbb755f4385d4e387",
      "error": null,
      "execute_input": "u.data[2:0:-1, 2:0:-1]\n",
      "execute_result": {
       "data": {
        "text/plain": "Data([], shape=(0, 0), dtype=float32)"
       },
       "execution_count": 33,
       "metadata": {}
      },
      "follow": [],
      "msg_id": "984df1b9-b3cef5ab420e2e1fc5d66b7f",
      "outputs": [],
      "received": "2019-05-15T15:35:22.437013",
      "started": "2019-05-15T15:35:22.422844",
      "status": "ok",
      "stderr": "",
      "stdout": "",
      "submitted": "2019-05-15T15:35:22.418258"
     },
     "output_type": "display_data"
    },
    {
     "data": {
      "text/plain": [
       "\u001b[0;31mOut[1:33]: \u001b[0mData([], shape=(0, 0), dtype=float32)"
      ]
     },
     "metadata": {
      "after": [],
      "completed": "2019-05-15T15:35:22.429101",
      "data": {},
      "engine_id": 1,
      "engine_uuid": "11f88942-780c2d0848c32a4b473358c5",
      "error": null,
      "execute_input": "u.data[2:0:-1, 2:0:-1]\n",
      "execute_result": {
       "data": {
        "text/plain": "Data([], shape=(0, 0), dtype=float32)"
       },
       "execution_count": 33,
       "metadata": {}
      },
      "follow": [],
      "msg_id": "25d0cc57-0342711a21a0a0eb94660d8b",
      "outputs": [],
      "received": "2019-05-15T15:35:22.438497",
      "started": "2019-05-15T15:35:22.423664",
      "status": "ok",
      "stderr": "",
      "stdout": "",
      "submitted": "2019-05-15T15:35:22.419057"
     },
     "output_type": "display_data"
    },
    {
     "data": {
      "text/plain": [
       "\u001b[0;31mOut[2:33]: \u001b[0mData([], shape=(0, 0), dtype=float32)"
      ]
     },
     "metadata": {
      "after": [],
      "completed": "2019-05-15T15:35:22.428260",
      "data": {},
      "engine_id": 2,
      "engine_uuid": "60717fd6-2f6d6002d9c0468e132665b4",
      "error": null,
      "execute_input": "u.data[2:0:-1, 2:0:-1]\n",
      "execute_result": {
       "data": {
        "text/plain": "Data([], shape=(0, 0), dtype=float32)"
       },
       "execution_count": 33,
       "metadata": {}
      },
      "follow": [],
      "msg_id": "790510de-0ee50ffe222c96bf41ef6ebe",
      "outputs": [],
      "received": "2019-05-15T15:35:22.435800",
      "started": "2019-05-15T15:35:22.424309",
      "status": "ok",
      "stderr": "",
      "stdout": "",
      "submitted": "2019-05-15T15:35:22.420269"
     },
     "output_type": "display_data"
    },
    {
     "data": {
      "text/plain": [
       "\u001b[0;31mOut[3:33]: \u001b[0mData([], shape=(0, 0), dtype=float32)"
      ]
     },
     "metadata": {
      "after": [],
      "completed": "2019-05-15T15:35:22.430384",
      "data": {},
      "engine_id": 3,
      "engine_uuid": "3102fa56-43374c394354e43ef91e0be8",
      "error": null,
      "execute_input": "u.data[2:0:-1, 2:0:-1]\n",
      "execute_result": {
       "data": {
        "text/plain": "Data([], shape=(0, 0), dtype=float32)"
       },
       "execution_count": 33,
       "metadata": {}
      },
      "follow": [],
      "msg_id": "bf83e01f-7ed729b2df446fcbc771ae9a",
      "outputs": [],
      "received": "2019-05-15T15:35:22.439881",
      "started": "2019-05-15T15:35:22.425595",
      "status": "ok",
      "stderr": "",
      "stdout": "",
      "submitted": "2019-05-15T15:35:22.420933"
     },
     "output_type": "display_data"
    }
   ],
   "source": [
    "%%px\n",
    "u.data[2:1:-1, 2:1:-1]"
   ]
  },
  {
   "cell_type": "code",
   "execution_count": 22,
   "metadata": {},
   "outputs": [
    {
     "data": {
      "text/plain": [
       "\u001b[0;31mOut[0:15]: \u001b[0mData([], shape=(0, 0), dtype=float32)"
      ]
     },
     "metadata": {
      "after": [],
      "completed": "2019-05-15T15:33:18.489035",
      "data": {},
      "engine_id": 0,
      "engine_uuid": "97ba875c-4c1742fcbb755f4385d4e387",
      "error": null,
      "execute_input": "u.data[2:, 2:]\n",
      "execute_result": {
       "data": {
        "text/plain": "Data([], shape=(0, 0), dtype=float32)"
       },
       "execution_count": 15,
       "metadata": {}
      },
      "follow": [],
      "msg_id": "25f2a73c-74fb3447ebbab2f3b7466928",
      "outputs": [],
      "received": "2019-05-15T15:33:18.493153",
      "started": "2019-05-15T15:33:18.484059",
      "status": "ok",
      "stderr": "",
      "stdout": "",
      "submitted": "2019-05-15T15:33:18.478618"
     },
     "output_type": "display_data"
    },
    {
     "data": {
      "text/plain": [
       "\u001b[0;31mOut[1:15]: \u001b[0mData([], shape=(0, 2), dtype=float32)"
      ]
     },
     "metadata": {
      "after": [],
      "completed": "2019-05-15T15:33:18.486700",
      "data": {},
      "engine_id": 1,
      "engine_uuid": "11f88942-780c2d0848c32a4b473358c5",
      "error": null,
      "execute_input": "u.data[2:, 2:]\n",
      "execute_result": {
       "data": {
        "text/plain": "Data([], shape=(0, 2), dtype=float32)"
       },
       "execution_count": 15,
       "metadata": {}
      },
      "follow": [],
      "msg_id": "45a9eac1-f2033e7fa65eedd69481f3e6",
      "outputs": [],
      "received": "2019-05-15T15:33:18.489659",
      "started": "2019-05-15T15:33:18.482990",
      "status": "ok",
      "stderr": "",
      "stdout": "",
      "submitted": "2019-05-15T15:33:18.479066"
     },
     "output_type": "display_data"
    },
    {
     "data": {
      "text/plain": [
       "\u001b[0;31mOut[2:15]: \u001b[0mData([], shape=(2, 0), dtype=float32)"
      ]
     },
     "metadata": {
      "after": [],
      "completed": "2019-05-15T15:33:18.487160",
      "data": {},
      "engine_id": 2,
      "engine_uuid": "60717fd6-2f6d6002d9c0468e132665b4",
      "error": null,
      "execute_input": "u.data[2:, 2:]\n",
      "execute_result": {
       "data": {
        "text/plain": "Data([], shape=(2, 0), dtype=float32)"
       },
       "execution_count": 15,
       "metadata": {}
      },
      "follow": [],
      "msg_id": "6d002742-a3770b947a66fc585bfa2da8",
      "outputs": [],
      "received": "2019-05-15T15:33:18.490988",
      "started": "2019-05-15T15:33:18.483768",
      "status": "ok",
      "stderr": "",
      "stdout": "",
      "submitted": "2019-05-15T15:33:18.480013"
     },
     "output_type": "display_data"
    },
    {
     "data": {
      "text/plain": [
       "\u001b[0;31mOut[3:15]: \u001b[0m\n",
       "Data([[10., 11.],\n",
       "      [14., 15.]], dtype=float32)"
      ]
     },
     "metadata": {
      "after": [],
      "completed": "2019-05-15T15:33:18.488948",
      "data": {},
      "engine_id": 3,
      "engine_uuid": "3102fa56-43374c394354e43ef91e0be8",
      "error": null,
      "execute_input": "u.data[2:, 2:]\n",
      "execute_result": {
       "data": {
        "text/plain": "Data([[10., 11.],\n      [14., 15.]], dtype=float32)"
       },
       "execution_count": 15,
       "metadata": {}
      },
      "follow": [],
      "msg_id": "a8aad642-41f7464dfd114d39727285f1",
      "outputs": [],
      "received": "2019-05-15T15:33:18.492055",
      "started": "2019-05-15T15:33:18.484921",
      "status": "ok",
      "stderr": "",
      "stdout": "",
      "submitted": "2019-05-15T15:33:18.480568"
     },
     "output_type": "display_data"
    }
   ],
   "source": [
    "%%px\n",
    "u.data[2:, 2:]"
   ]
  },
  {
   "cell_type": "code",
   "execution_count": null,
   "metadata": {},
   "outputs": [],
   "source": []
  }
 ],
 "metadata": {
  "kernelspec": {
   "display_name": "Python (devito)",
   "language": "python",
   "name": "devito"
  },
  "language_info": {
   "codemirror_mode": {
    "name": "ipython",
    "version": 3
   },
   "file_extension": ".py",
   "mimetype": "text/x-python",
   "name": "python",
   "nbconvert_exporter": "python",
   "pygments_lexer": "ipython3",
   "version": "3.6.8"
  }
 },
 "nbformat": 4,
 "nbformat_minor": 2
}
